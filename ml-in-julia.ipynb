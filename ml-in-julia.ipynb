{
 "cells": [
  {
   "attachments": {},
   "cell_type": "markdown",
   "metadata": {},
   "source": [
    "Machine Learning Project in Julia"
   ]
  },
  {
   "cell_type": "code",
   "execution_count": 58,
   "metadata": {},
   "outputs": [],
   "source": [
    "using Pkg\n",
    "#Pkg.add(\"ScikitLearn\")"
   ]
  },
  {
   "cell_type": "code",
   "execution_count": 59,
   "metadata": {},
   "outputs": [
    {
     "data": {
      "text/html": [
       "<div><div style = \"float: left;\"><span>150×5 DataFrame</span></div><div style = \"float: right;\"><span style = \"font-style: italic;\">125 rows omitted</span></div><div style = \"clear: both;\"></div></div><div class = \"data-frame\" style = \"overflow-x: scroll;\"><table class = \"data-frame\" style = \"margin-bottom: 6px;\"><thead><tr class = \"header\"><th class = \"rowNumber\" style = \"font-weight: bold; text-align: right;\">Row</th><th style = \"text-align: left;\">sepal_length</th><th style = \"text-align: left;\">sepal_width</th><th style = \"text-align: left;\">petal_length</th><th style = \"text-align: left;\">petal_width</th><th style = \"text-align: left;\">variety</th></tr><tr class = \"subheader headerLastRow\"><th class = \"rowNumber\" style = \"font-weight: bold; text-align: right;\"></th><th title = \"Float64\" style = \"text-align: left;\">Float64</th><th title = \"Float64\" style = \"text-align: left;\">Float64</th><th title = \"Float64\" style = \"text-align: left;\">Float64</th><th title = \"Float64\" style = \"text-align: left;\">Float64</th><th title = \"String15\" style = \"text-align: left;\">String15</th></tr></thead><tbody><tr><td class = \"rowNumber\" style = \"font-weight: bold; text-align: right;\">1</td><td style = \"text-align: right;\">5.1</td><td style = \"text-align: right;\">3.5</td><td style = \"text-align: right;\">1.4</td><td style = \"text-align: right;\">0.2</td><td style = \"text-align: left;\">Setosa</td></tr><tr><td class = \"rowNumber\" style = \"font-weight: bold; text-align: right;\">2</td><td style = \"text-align: right;\">4.9</td><td style = \"text-align: right;\">3.0</td><td style = \"text-align: right;\">1.4</td><td style = \"text-align: right;\">0.2</td><td style = \"text-align: left;\">Setosa</td></tr><tr><td class = \"rowNumber\" style = \"font-weight: bold; text-align: right;\">3</td><td style = \"text-align: right;\">4.7</td><td style = \"text-align: right;\">3.2</td><td style = \"text-align: right;\">1.3</td><td style = \"text-align: right;\">0.2</td><td style = \"text-align: left;\">Setosa</td></tr><tr><td class = \"rowNumber\" style = \"font-weight: bold; text-align: right;\">4</td><td style = \"text-align: right;\">4.6</td><td style = \"text-align: right;\">3.1</td><td style = \"text-align: right;\">1.5</td><td style = \"text-align: right;\">0.2</td><td style = \"text-align: left;\">Setosa</td></tr><tr><td class = \"rowNumber\" style = \"font-weight: bold; text-align: right;\">5</td><td style = \"text-align: right;\">5.0</td><td style = \"text-align: right;\">3.6</td><td style = \"text-align: right;\">1.4</td><td style = \"text-align: right;\">0.2</td><td style = \"text-align: left;\">Setosa</td></tr><tr><td class = \"rowNumber\" style = \"font-weight: bold; text-align: right;\">6</td><td style = \"text-align: right;\">5.4</td><td style = \"text-align: right;\">3.9</td><td style = \"text-align: right;\">1.7</td><td style = \"text-align: right;\">0.4</td><td style = \"text-align: left;\">Setosa</td></tr><tr><td class = \"rowNumber\" style = \"font-weight: bold; text-align: right;\">7</td><td style = \"text-align: right;\">4.6</td><td style = \"text-align: right;\">3.4</td><td style = \"text-align: right;\">1.4</td><td style = \"text-align: right;\">0.3</td><td style = \"text-align: left;\">Setosa</td></tr><tr><td class = \"rowNumber\" style = \"font-weight: bold; text-align: right;\">8</td><td style = \"text-align: right;\">5.0</td><td style = \"text-align: right;\">3.4</td><td style = \"text-align: right;\">1.5</td><td style = \"text-align: right;\">0.2</td><td style = \"text-align: left;\">Setosa</td></tr><tr><td class = \"rowNumber\" style = \"font-weight: bold; text-align: right;\">9</td><td style = \"text-align: right;\">4.4</td><td style = \"text-align: right;\">2.9</td><td style = \"text-align: right;\">1.4</td><td style = \"text-align: right;\">0.2</td><td style = \"text-align: left;\">Setosa</td></tr><tr><td class = \"rowNumber\" style = \"font-weight: bold; text-align: right;\">10</td><td style = \"text-align: right;\">4.9</td><td style = \"text-align: right;\">3.1</td><td style = \"text-align: right;\">1.5</td><td style = \"text-align: right;\">0.1</td><td style = \"text-align: left;\">Setosa</td></tr><tr><td class = \"rowNumber\" style = \"font-weight: bold; text-align: right;\">11</td><td style = \"text-align: right;\">5.4</td><td style = \"text-align: right;\">3.7</td><td style = \"text-align: right;\">1.5</td><td style = \"text-align: right;\">0.2</td><td style = \"text-align: left;\">Setosa</td></tr><tr><td class = \"rowNumber\" style = \"font-weight: bold; text-align: right;\">12</td><td style = \"text-align: right;\">4.8</td><td style = \"text-align: right;\">3.4</td><td style = \"text-align: right;\">1.6</td><td style = \"text-align: right;\">0.2</td><td style = \"text-align: left;\">Setosa</td></tr><tr><td class = \"rowNumber\" style = \"font-weight: bold; text-align: right;\">13</td><td style = \"text-align: right;\">4.8</td><td style = \"text-align: right;\">3.0</td><td style = \"text-align: right;\">1.4</td><td style = \"text-align: right;\">0.1</td><td style = \"text-align: left;\">Setosa</td></tr><tr><td style = \"text-align: right;\">&vellip;</td><td style = \"text-align: right;\">&vellip;</td><td style = \"text-align: right;\">&vellip;</td><td style = \"text-align: right;\">&vellip;</td><td style = \"text-align: right;\">&vellip;</td><td style = \"text-align: right;\">&vellip;</td></tr><tr><td class = \"rowNumber\" style = \"font-weight: bold; text-align: right;\">139</td><td style = \"text-align: right;\">6.0</td><td style = \"text-align: right;\">3.0</td><td style = \"text-align: right;\">4.8</td><td style = \"text-align: right;\">1.8</td><td style = \"text-align: left;\">Virginica</td></tr><tr><td class = \"rowNumber\" style = \"font-weight: bold; text-align: right;\">140</td><td style = \"text-align: right;\">6.9</td><td style = \"text-align: right;\">3.1</td><td style = \"text-align: right;\">5.4</td><td style = \"text-align: right;\">2.1</td><td style = \"text-align: left;\">Virginica</td></tr><tr><td class = \"rowNumber\" style = \"font-weight: bold; text-align: right;\">141</td><td style = \"text-align: right;\">6.7</td><td style = \"text-align: right;\">3.1</td><td style = \"text-align: right;\">5.6</td><td style = \"text-align: right;\">2.4</td><td style = \"text-align: left;\">Virginica</td></tr><tr><td class = \"rowNumber\" style = \"font-weight: bold; text-align: right;\">142</td><td style = \"text-align: right;\">6.9</td><td style = \"text-align: right;\">3.1</td><td style = \"text-align: right;\">5.1</td><td style = \"text-align: right;\">2.3</td><td style = \"text-align: left;\">Virginica</td></tr><tr><td class = \"rowNumber\" style = \"font-weight: bold; text-align: right;\">143</td><td style = \"text-align: right;\">5.8</td><td style = \"text-align: right;\">2.7</td><td style = \"text-align: right;\">5.1</td><td style = \"text-align: right;\">1.9</td><td style = \"text-align: left;\">Virginica</td></tr><tr><td class = \"rowNumber\" style = \"font-weight: bold; text-align: right;\">144</td><td style = \"text-align: right;\">6.8</td><td style = \"text-align: right;\">3.2</td><td style = \"text-align: right;\">5.9</td><td style = \"text-align: right;\">2.3</td><td style = \"text-align: left;\">Virginica</td></tr><tr><td class = \"rowNumber\" style = \"font-weight: bold; text-align: right;\">145</td><td style = \"text-align: right;\">6.7</td><td style = \"text-align: right;\">3.3</td><td style = \"text-align: right;\">5.7</td><td style = \"text-align: right;\">2.5</td><td style = \"text-align: left;\">Virginica</td></tr><tr><td class = \"rowNumber\" style = \"font-weight: bold; text-align: right;\">146</td><td style = \"text-align: right;\">6.7</td><td style = \"text-align: right;\">3.0</td><td style = \"text-align: right;\">5.2</td><td style = \"text-align: right;\">2.3</td><td style = \"text-align: left;\">Virginica</td></tr><tr><td class = \"rowNumber\" style = \"font-weight: bold; text-align: right;\">147</td><td style = \"text-align: right;\">6.3</td><td style = \"text-align: right;\">2.5</td><td style = \"text-align: right;\">5.0</td><td style = \"text-align: right;\">1.9</td><td style = \"text-align: left;\">Virginica</td></tr><tr><td class = \"rowNumber\" style = \"font-weight: bold; text-align: right;\">148</td><td style = \"text-align: right;\">6.5</td><td style = \"text-align: right;\">3.0</td><td style = \"text-align: right;\">5.2</td><td style = \"text-align: right;\">2.0</td><td style = \"text-align: left;\">Virginica</td></tr><tr><td class = \"rowNumber\" style = \"font-weight: bold; text-align: right;\">149</td><td style = \"text-align: right;\">6.2</td><td style = \"text-align: right;\">3.4</td><td style = \"text-align: right;\">5.4</td><td style = \"text-align: right;\">2.3</td><td style = \"text-align: left;\">Virginica</td></tr><tr><td class = \"rowNumber\" style = \"font-weight: bold; text-align: right;\">150</td><td style = \"text-align: right;\">5.9</td><td style = \"text-align: right;\">3.0</td><td style = \"text-align: right;\">5.1</td><td style = \"text-align: right;\">1.8</td><td style = \"text-align: left;\">Virginica</td></tr></tbody></table></div>"
      ],
      "text/latex": [
       "\\begin{tabular}{r|ccccc}\n",
       "\t& sepal\\_length & sepal\\_width & petal\\_length & petal\\_width & variety\\\\\n",
       "\t\\hline\n",
       "\t& Float64 & Float64 & Float64 & Float64 & String15\\\\\n",
       "\t\\hline\n",
       "\t1 & 5.1 & 3.5 & 1.4 & 0.2 & Setosa \\\\\n",
       "\t2 & 4.9 & 3.0 & 1.4 & 0.2 & Setosa \\\\\n",
       "\t3 & 4.7 & 3.2 & 1.3 & 0.2 & Setosa \\\\\n",
       "\t4 & 4.6 & 3.1 & 1.5 & 0.2 & Setosa \\\\\n",
       "\t5 & 5.0 & 3.6 & 1.4 & 0.2 & Setosa \\\\\n",
       "\t6 & 5.4 & 3.9 & 1.7 & 0.4 & Setosa \\\\\n",
       "\t7 & 4.6 & 3.4 & 1.4 & 0.3 & Setosa \\\\\n",
       "\t8 & 5.0 & 3.4 & 1.5 & 0.2 & Setosa \\\\\n",
       "\t9 & 4.4 & 2.9 & 1.4 & 0.2 & Setosa \\\\\n",
       "\t10 & 4.9 & 3.1 & 1.5 & 0.1 & Setosa \\\\\n",
       "\t11 & 5.4 & 3.7 & 1.5 & 0.2 & Setosa \\\\\n",
       "\t12 & 4.8 & 3.4 & 1.6 & 0.2 & Setosa \\\\\n",
       "\t13 & 4.8 & 3.0 & 1.4 & 0.1 & Setosa \\\\\n",
       "\t14 & 4.3 & 3.0 & 1.1 & 0.1 & Setosa \\\\\n",
       "\t15 & 5.8 & 4.0 & 1.2 & 0.2 & Setosa \\\\\n",
       "\t16 & 5.7 & 4.4 & 1.5 & 0.4 & Setosa \\\\\n",
       "\t17 & 5.4 & 3.9 & 1.3 & 0.4 & Setosa \\\\\n",
       "\t18 & 5.1 & 3.5 & 1.4 & 0.3 & Setosa \\\\\n",
       "\t19 & 5.7 & 3.8 & 1.7 & 0.3 & Setosa \\\\\n",
       "\t20 & 5.1 & 3.8 & 1.5 & 0.3 & Setosa \\\\\n",
       "\t21 & 5.4 & 3.4 & 1.7 & 0.2 & Setosa \\\\\n",
       "\t22 & 5.1 & 3.7 & 1.5 & 0.4 & Setosa \\\\\n",
       "\t23 & 4.6 & 3.6 & 1.0 & 0.2 & Setosa \\\\\n",
       "\t24 & 5.1 & 3.3 & 1.7 & 0.5 & Setosa \\\\\n",
       "\t$\\dots$ & $\\dots$ & $\\dots$ & $\\dots$ & $\\dots$ & $\\dots$ \\\\\n",
       "\\end{tabular}\n"
      ],
      "text/plain": [
       "\u001b[1m150×5 DataFrame\u001b[0m\n",
       "\u001b[1m Row \u001b[0m│\u001b[1m sepal_length \u001b[0m\u001b[1m sepal_width \u001b[0m\u001b[1m petal_length \u001b[0m\u001b[1m petal_width \u001b[0m\u001b[1m variety   \u001b[0m\n",
       "     │\u001b[90m Float64      \u001b[0m\u001b[90m Float64     \u001b[0m\u001b[90m Float64      \u001b[0m\u001b[90m Float64     \u001b[0m\u001b[90m String15  \u001b[0m\n",
       "─────┼─────────────────────────────────────────────────────────────────\n",
       "   1 │          5.1          3.5           1.4          0.2  Setosa\n",
       "   2 │          4.9          3.0           1.4          0.2  Setosa\n",
       "   3 │          4.7          3.2           1.3          0.2  Setosa\n",
       "   4 │          4.6          3.1           1.5          0.2  Setosa\n",
       "   5 │          5.0          3.6           1.4          0.2  Setosa\n",
       "   6 │          5.4          3.9           1.7          0.4  Setosa\n",
       "   7 │          4.6          3.4           1.4          0.3  Setosa\n",
       "   8 │          5.0          3.4           1.5          0.2  Setosa\n",
       "  ⋮  │      ⋮             ⋮            ⋮             ⋮           ⋮\n",
       " 144 │          6.8          3.2           5.9          2.3  Virginica\n",
       " 145 │          6.7          3.3           5.7          2.5  Virginica\n",
       " 146 │          6.7          3.0           5.2          2.3  Virginica\n",
       " 147 │          6.3          2.5           5.0          1.9  Virginica\n",
       " 148 │          6.5          3.0           5.2          2.0  Virginica\n",
       " 149 │          6.2          3.4           5.4          2.3  Virginica\n",
       " 150 │          5.9          3.0           5.1          1.8  Virginica\n",
       "\u001b[36m                                                       135 rows omitted\u001b[0m"
      ]
     },
     "metadata": {},
     "output_type": "display_data"
    }
   ],
   "source": [
    "using ScikitLearn, CSV, DataFrames\n",
    "iris = CSV.read(\"iris.csv\",DataFrame,normalizenames = true)"
   ]
  },
  {
   "cell_type": "code",
   "execution_count": 60,
   "metadata": {},
   "outputs": [
    {
     "ename": "MethodError",
     "evalue": "MethodError: Cannot `convert` an object of type \n  DataFrame to an object of type \n  Array\nClosest candidates are:\n  convert(::Type{T}, !Matched::LinearAlgebra.Factorization) where T<:AbstractArray at C:\\Users\\jp_gl\\AppData\\Local\\Programs\\Julia-1.8.3\\share\\julia\\stdlib\\v1.8\\LinearAlgebra\\src\\factorization.jl:58\n  convert(::Type{Array}, !Matched::PooledArrays.PooledArray{T, R, N}) where {T, R, N} at C:\\Users\\jp_gl\\.julia\\packages\\PooledArrays\\DXlaI\\src\\PooledArrays.jl:513\n  convert(::Type{Array}, !Matched::DataStructures.CircularBuffer{T}) where T at C:\\Users\\jp_gl\\.julia\\packages\\DataStructures\\59MD0\\src\\circular_buffer.jl:166\n  ...",
     "output_type": "error",
     "traceback": [
      "MethodError: Cannot `convert` an object of type \n",
      "  DataFrame to an object of type \n",
      "  Array\n",
      "Closest candidates are:\n",
      "  convert(::Type{T}, !Matched::LinearAlgebra.Factorization) where T<:AbstractArray at C:\\Users\\jp_gl\\AppData\\Local\\Programs\\Julia-1.8.3\\share\\julia\\stdlib\\v1.8\\LinearAlgebra\\src\\factorization.jl:58\n",
      "  convert(::Type{Array}, !Matched::PooledArrays.PooledArray{T, R, N}) where {T, R, N} at C:\\Users\\jp_gl\\.julia\\packages\\PooledArrays\\DXlaI\\src\\PooledArrays.jl:513\n",
      "  convert(::Type{Array}, !Matched::DataStructures.CircularBuffer{T}) where T at C:\\Users\\jp_gl\\.julia\\packages\\DataStructures\\59MD0\\src\\circular_buffer.jl:166\n",
      "  ...\n",
      "\n",
      "Stacktrace:\n",
      " [1] top-level scope\n",
      "   @ c:\\Users\\jp_gl\\OneDrive\\Documents\\GitHub\\Julia-Practice\\ml-in-julia.ipynb:1"
     ]
    }
   ],
   "source": [
    "iris_x = convert(Array, iris[:,[1,2,3,4]])"
   ]
  },
  {
   "cell_type": "code",
   "execution_count": 61,
   "metadata": {},
   "outputs": [
    {
     "data": {
      "text/plain": [
       "150-element Vector{String15}:\n",
       " \"Setosa\"\n",
       " \"Setosa\"\n",
       " \"Setosa\"\n",
       " \"Setosa\"\n",
       " \"Setosa\"\n",
       " \"Setosa\"\n",
       " \"Setosa\"\n",
       " \"Setosa\"\n",
       " \"Setosa\"\n",
       " \"Setosa\"\n",
       " ⋮\n",
       " \"Virginica\"\n",
       " \"Virginica\"\n",
       " \"Virginica\"\n",
       " \"Virginica\"\n",
       " \"Virginica\"\n",
       " \"Virginica\"\n",
       " \"Virginica\"\n",
       " \"Virginica\"\n",
       " \"Virginica\""
      ]
     },
     "metadata": {},
     "output_type": "display_data"
    }
   ],
   "source": [
    "iris_y = convert(Array, iris[:,5])"
   ]
  },
  {
   "cell_type": "code",
   "execution_count": 62,
   "metadata": {},
   "outputs": [
    {
     "name": "stderr",
     "output_type": "stream",
     "text": [
      "WARNING: redefinition of constant LogisticRegression. This may fail, cause incorrect answers, or produce other errors.\n"
     ]
    },
    {
     "data": {
      "text/plain": [
       "PyObject <class 'sklearn.linear_model._logistic.LogisticRegression'>"
      ]
     },
     "metadata": {},
     "output_type": "display_data"
    }
   ],
   "source": [
    "@sk_import linear_model: LogisticRegression"
   ]
  },
  {
   "cell_type": "code",
   "execution_count": 63,
   "metadata": {},
   "outputs": [
    {
     "data": {
      "text/html": [
       "<style>#sk-container-id-27 {color: black;background-color: white;}#sk-container-id-27 pre{padding: 0;}#sk-container-id-27 div.sk-toggleable {background-color: white;}#sk-container-id-27 label.sk-toggleable__label {cursor: pointer;display: block;width: 100%;margin-bottom: 0;padding: 0.3em;box-sizing: border-box;text-align: center;}#sk-container-id-27 label.sk-toggleable__label-arrow:before {content: \"▸\";float: left;margin-right: 0.25em;color: #696969;}#sk-container-id-27 label.sk-toggleable__label-arrow:hover:before {color: black;}#sk-container-id-27 div.sk-estimator:hover label.sk-toggleable__label-arrow:before {color: black;}#sk-container-id-27 div.sk-toggleable__content {max-height: 0;max-width: 0;overflow: hidden;text-align: left;background-color: #f0f8ff;}#sk-container-id-27 div.sk-toggleable__content pre {margin: 0.2em;color: black;border-radius: 0.25em;background-color: #f0f8ff;}#sk-container-id-27 input.sk-toggleable__control:checked~div.sk-toggleable__content {max-height: 200px;max-width: 100%;overflow: auto;}#sk-container-id-27 input.sk-toggleable__control:checked~label.sk-toggleable__label-arrow:before {content: \"▾\";}#sk-container-id-27 div.sk-estimator input.sk-toggleable__control:checked~label.sk-toggleable__label {background-color: #d4ebff;}#sk-container-id-27 div.sk-label input.sk-toggleable__control:checked~label.sk-toggleable__label {background-color: #d4ebff;}#sk-container-id-27 input.sk-hidden--visually {border: 0;clip: rect(1px 1px 1px 1px);clip: rect(1px, 1px, 1px, 1px);height: 1px;margin: -1px;overflow: hidden;padding: 0;position: absolute;width: 1px;}#sk-container-id-27 div.sk-estimator {font-family: monospace;background-color: #f0f8ff;border: 1px dotted black;border-radius: 0.25em;box-sizing: border-box;margin-bottom: 0.5em;}#sk-container-id-27 div.sk-estimator:hover {background-color: #d4ebff;}#sk-container-id-27 div.sk-parallel-item::after {content: \"\";width: 100%;border-bottom: 1px solid gray;flex-grow: 1;}#sk-container-id-27 div.sk-label:hover label.sk-toggleable__label {background-color: #d4ebff;}#sk-container-id-27 div.sk-serial::before {content: \"\";position: absolute;border-left: 1px solid gray;box-sizing: border-box;top: 0;bottom: 0;left: 50%;z-index: 0;}#sk-container-id-27 div.sk-serial {display: flex;flex-direction: column;align-items: center;background-color: white;padding-right: 0.2em;padding-left: 0.2em;position: relative;}#sk-container-id-27 div.sk-item {position: relative;z-index: 1;}#sk-container-id-27 div.sk-parallel {display: flex;align-items: stretch;justify-content: center;background-color: white;position: relative;}#sk-container-id-27 div.sk-item::before, #sk-container-id-27 div.sk-parallel-item::before {content: \"\";position: absolute;border-left: 1px solid gray;box-sizing: border-box;top: 0;bottom: 0;left: 50%;z-index: -1;}#sk-container-id-27 div.sk-parallel-item {display: flex;flex-direction: column;z-index: 1;position: relative;background-color: white;}#sk-container-id-27 div.sk-parallel-item:first-child::after {align-self: flex-end;width: 50%;}#sk-container-id-27 div.sk-parallel-item:last-child::after {align-self: flex-start;width: 50%;}#sk-container-id-27 div.sk-parallel-item:only-child::after {width: 0;}#sk-container-id-27 div.sk-dashed-wrapped {border: 1px dashed gray;margin: 0 0.4em 0.5em 0.4em;box-sizing: border-box;padding-bottom: 0.4em;background-color: white;}#sk-container-id-27 div.sk-label label {font-family: monospace;font-weight: bold;display: inline-block;line-height: 1.2em;}#sk-container-id-27 div.sk-label-container {text-align: center;}#sk-container-id-27 div.sk-container {/* jupyter's `normalize.less` sets `[hidden] { display: none; }` but bootstrap.min.css set `[hidden] { display: none !important; }` so we also need the `!important` here to be able to override the default hidden behavior on the sphinx rendered scikit-learn.org. See: https://github.com/scikit-learn/scikit-learn/issues/21755 */display: inline-block !important;position: relative;}#sk-container-id-27 div.sk-text-repr-fallback {display: none;}</style><div id=\"sk-container-id-27\" class=\"sk-top-container\"><div class=\"sk-text-repr-fallback\"><pre>LogisticRegression()</pre><b>In a Jupyter environment, please rerun this cell to show the HTML representation or trust the notebook. <br />On GitHub, the HTML representation is unable to render, please try loading this page with nbviewer.org.</b></div><div class=\"sk-container\" hidden><div class=\"sk-item\"><div class=\"sk-estimator sk-toggleable\"><input class=\"sk-toggleable__control sk-hidden--visually\" id=\"sk-estimator-id-27\" type=\"checkbox\" checked><label for=\"sk-estimator-id-27\" class=\"sk-toggleable__label sk-toggleable__label-arrow\">LogisticRegression</label><div class=\"sk-toggleable__content\"><pre>LogisticRegression()</pre></div></div></div></div></div>"
      ],
      "text/plain": [
       "PyObject LogisticRegression()"
      ]
     },
     "metadata": {},
     "output_type": "display_data"
    }
   ],
   "source": [
    "log_reg_model = LogisticRegression()"
   ]
  },
  {
   "cell_type": "code",
   "execution_count": 64,
   "metadata": {},
   "outputs": [
    {
     "ename": "PyCall.PyError",
     "evalue": "PyError ($(Expr(:escape, :(ccall(#= C:\\Users\\jp_gl\\.julia\\packages\\PyCall\\ygXW2\\src\\pyfncall.jl:43 =# @pysym(:PyObject_Call), PyPtr, (PyPtr, PyPtr, PyPtr), o, pyargsptr, kw))))) <class 'ValueError'>\nValueError('Expected 2D array, got 1D array instead:\\narray=[5.1 4.9 4.7 4.6 5.  5.4 4.6 5.  4.4 4.9 5.4 4.8 4.8 4.3 5.8 5.7 5.4 5.1\\n 5.7 5.1 5.4 5.1 4.6 5.1 4.8 5.  5.  5.2 5.2 4.7 4.8 5.4 5.2 5.5 4.9 5.\\n 5.5 4.9 4.4 5.1 5.  4.5 4.4 5.  5.1 4.8 5.1 4.6 5.3 5.  7.  6.4 6.9 5.5\\n 6.5 5.7 6.3 4.9 6.6 5.2 5.  5.9 6.  6.1 5.6 6.7 5.6 5.8 6.2 5.6 5.9 6.1\\n 6.3 6.1 6.4 6.6 6.8 6.7 6.  5.7 5.5 5.5 5.8 6.  5.4 6.  6.7 6.3 5.6 5.5\\n 5.5 6.1 5.8 5.  5.6 5.7 5.7 6.2 5.1 5.7 6.3 5.8 7.1 6.3 6.5 7.6 4.9 7.3\\n 6.7 7.2 6.5 6.4 6.8 5.7 5.8 6.4 6.5 7.7 7.7 6.  6.9 5.6 7.7 6.3 6.7 7.2\\n 6.2 6.1 6.4 7.2 7.4 7.9 6.4 6.3 6.1 7.7 6.3 6.4 6.  6.9 6.7 6.9 5.8 6.8\\n 6.7 6.7 6.3 6.5 6.2 5.9].\\nReshape your data either using array.reshape(-1, 1) if your data has a single feature or array.reshape(1, -1) if it contains a single sample.')\n  File \"C:\\Users\\jp_gl\\.julia\\conda\\3\\lib\\site-packages\\sklearn\\linear_model\\_logistic.py\", line 1196, in fit\n    X, y = self._validate_data(\n  File \"C:\\Users\\jp_gl\\.julia\\conda\\3\\lib\\site-packages\\sklearn\\base.py\", line 554, in _validate_data\n    X, y = check_X_y(X, y, **check_params)\n  File \"C:\\Users\\jp_gl\\.julia\\conda\\3\\lib\\site-packages\\sklearn\\utils\\validation.py\", line 1104, in check_X_y\n    X = check_array(\n  File \"C:\\Users\\jp_gl\\.julia\\conda\\3\\lib\\site-packages\\sklearn\\utils\\validation.py\", line 900, in check_array\n    raise ValueError(\n",
     "output_type": "error",
     "traceback": [
      "PyError ($(Expr(:escape, :(ccall(#= C:\\Users\\jp_gl\\.julia\\packages\\PyCall\\ygXW2\\src\\pyfncall.jl:43 =# @pysym(:PyObject_Call), PyPtr, (PyPtr, PyPtr, PyPtr), o, pyargsptr, kw))))) <class 'ValueError'>\n",
      "ValueError('Expected 2D array, got 1D array instead:\\narray=[5.1 4.9 4.7 4.6 5.  5.4 4.6 5.  4.4 4.9 5.4 4.8 4.8 4.3 5.8 5.7 5.4 5.1\\n 5.7 5.1 5.4 5.1 4.6 5.1 4.8 5.  5.  5.2 5.2 4.7 4.8 5.4 5.2 5.5 4.9 5.\\n 5.5 4.9 4.4 5.1 5.  4.5 4.4 5.  5.1 4.8 5.1 4.6 5.3 5.  7.  6.4 6.9 5.5\\n 6.5 5.7 6.3 4.9 6.6 5.2 5.  5.9 6.  6.1 5.6 6.7 5.6 5.8 6.2 5.6 5.9 6.1\\n 6.3 6.1 6.4 6.6 6.8 6.7 6.  5.7 5.5 5.5 5.8 6.  5.4 6.  6.7 6.3 5.6 5.5\\n 5.5 6.1 5.8 5.  5.6 5.7 5.7 6.2 5.1 5.7 6.3 5.8 7.1 6.3 6.5 7.6 4.9 7.3\\n 6.7 7.2 6.5 6.4 6.8 5.7 5.8 6.4 6.5 7.7 7.7 6.  6.9 5.6 7.7 6.3 6.7 7.2\\n 6.2 6.1 6.4 7.2 7.4 7.9 6.4 6.3 6.1 7.7 6.3 6.4 6.  6.9 6.7 6.9 5.8 6.8\\n 6.7 6.7 6.3 6.5 6.2 5.9].\\nReshape your data either using array.reshape(-1, 1) if your data has a single feature or array.reshape(1, -1) if it contains a single sample.')\n",
      "  File \"C:\\Users\\jp_gl\\.julia\\conda\\3\\lib\\site-packages\\sklearn\\linear_model\\_logistic.py\", line 1196, in fit\n",
      "    X, y = self._validate_data(\n",
      "  File \"C:\\Users\\jp_gl\\.julia\\conda\\3\\lib\\site-packages\\sklearn\\base.py\", line 554, in _validate_data\n",
      "    X, y = check_X_y(X, y, **check_params)\n",
      "  File \"C:\\Users\\jp_gl\\.julia\\conda\\3\\lib\\site-packages\\sklearn\\utils\\validation.py\", line 1104, in check_X_y\n",
      "    X = check_array(\n",
      "  File \"C:\\Users\\jp_gl\\.julia\\conda\\3\\lib\\site-packages\\sklearn\\utils\\validation.py\", line 900, in check_array\n",
      "    raise ValueError(\n",
      "\n",
      "\n",
      "Stacktrace:\n",
      "  [1] pyerr_check\n",
      "    @ C:\\Users\\jp_gl\\.julia\\packages\\PyCall\\ygXW2\\src\\exception.jl:62 [inlined]\n",
      "  [2] pyerr_check\n",
      "    @ C:\\Users\\jp_gl\\.julia\\packages\\PyCall\\ygXW2\\src\\exception.jl:66 [inlined]\n",
      "  [3] _handle_error(msg::String)\n",
      "    @ PyCall C:\\Users\\jp_gl\\.julia\\packages\\PyCall\\ygXW2\\src\\exception.jl:83\n",
      "  [4] macro expansion\n",
      "    @ C:\\Users\\jp_gl\\.julia\\packages\\PyCall\\ygXW2\\src\\exception.jl:97 [inlined]\n",
      "  [5] #107\n",
      "    @ C:\\Users\\jp_gl\\.julia\\packages\\PyCall\\ygXW2\\src\\pyfncall.jl:43 [inlined]\n",
      "  [6] disable_sigint\n",
      "    @ .\\c.jl:473 [inlined]\n",
      "  [7] __pycall!\n",
      "    @ C:\\Users\\jp_gl\\.julia\\packages\\PyCall\\ygXW2\\src\\pyfncall.jl:42 [inlined]\n",
      "  [8] _pycall!(ret::PyCall.PyObject, o::PyCall.PyObject, args::Tuple{Vector{Float64}, Vector{String15}}, nargs::Int64, kw::Ptr{Nothing})\n",
      "    @ PyCall C:\\Users\\jp_gl\\.julia\\packages\\PyCall\\ygXW2\\src\\pyfncall.jl:29\n",
      "  [9] _pycall!(ret::PyCall.PyObject, o::PyCall.PyObject, args::Tuple{Vector{Float64}, Vector{String15}}, kwargs::Base.Pairs{Symbol, Union{}, Tuple{}, NamedTuple{(), Tuple{}}})\n",
      "    @ PyCall C:\\Users\\jp_gl\\.julia\\packages\\PyCall\\ygXW2\\src\\pyfncall.jl:11\n",
      " [10] (::PyCall.PyObject)(::Vector{Float64}, ::Vararg{Any}; kwargs::Base.Pairs{Symbol, Union{}, Tuple{}, NamedTuple{(), Tuple{}}})\n",
      "    @ PyCall C:\\Users\\jp_gl\\.julia\\packages\\PyCall\\ygXW2\\src\\pyfncall.jl:86\n",
      " [11] (::PyCall.PyObject)(::Vector{Float64}, ::Vararg{Any})\n",
      "    @ PyCall C:\\Users\\jp_gl\\.julia\\packages\\PyCall\\ygXW2\\src\\pyfncall.jl:86\n",
      " [12] fit!(::PyCall.PyObject, ::Vector{Float64}, ::Vararg{Any}; kwargs::Base.Pairs{Symbol, Union{}, Tuple{}, NamedTuple{(), Tuple{}}})\n",
      "    @ ScikitLearn.Skcore C:\\Users\\jp_gl\\.julia\\packages\\ScikitLearn\\Wvn7B\\src\\Skcore.jl:102\n",
      " [13] fit!(::PyCall.PyObject, ::Vector{Float64}, ::Vector{String15})\n",
      "    @ ScikitLearn.Skcore C:\\Users\\jp_gl\\.julia\\packages\\ScikitLearn\\Wvn7B\\src\\Skcore.jl:102\n",
      " [14] top-level scope\n",
      "    @ c:\\Users\\jp_gl\\OneDrive\\Documents\\GitHub\\Julia-Practice\\ml-in-julia.ipynb:1"
     ]
    }
   ],
   "source": [
    "fit!(log_reg_model, iris_x, iris_y)"
   ]
  },
  {
   "cell_type": "code",
   "execution_count": 65,
   "metadata": {},
   "outputs": [
    {
     "ename": "PyCall.PyError",
     "evalue": "PyError ($(Expr(:escape, :(ccall(#= C:\\Users\\jp_gl\\.julia\\packages\\PyCall\\ygXW2\\src\\pyfncall.jl:43 =# @pysym(:PyObject_Call), PyPtr, (PyPtr, PyPtr, PyPtr), o, pyargsptr, kw))))) <class 'sklearn.exceptions.NotFittedError'>\nNotFittedError(\"This LogisticRegression instance is not fitted yet. Call 'fit' with appropriate arguments before using this estimator.\")\n  File \"C:\\Users\\jp_gl\\.julia\\conda\\3\\lib\\site-packages\\sklearn\\linear_model\\_base.py\", line 420, in predict\n    scores = self.decision_function(X)\n  File \"C:\\Users\\jp_gl\\.julia\\conda\\3\\lib\\site-packages\\sklearn\\linear_model\\_base.py\", line 398, in decision_function\n    check_is_fitted(self)\n  File \"C:\\Users\\jp_gl\\.julia\\conda\\3\\lib\\site-packages\\sklearn\\utils\\validation.py\", line 1380, in check_is_fitted\n    raise NotFittedError(msg % {\"name\": type(estimator).__name__})\n",
     "output_type": "error",
     "traceback": [
      "PyError ($(Expr(:escape, :(ccall(#= C:\\Users\\jp_gl\\.julia\\packages\\PyCall\\ygXW2\\src\\pyfncall.jl:43 =# @pysym(:PyObject_Call), PyPtr, (PyPtr, PyPtr, PyPtr), o, pyargsptr, kw))))) <class 'sklearn.exceptions.NotFittedError'>\n",
      "NotFittedError(\"This LogisticRegression instance is not fitted yet. Call 'fit' with appropriate arguments before using this estimator.\")\n",
      "  File \"C:\\Users\\jp_gl\\.julia\\conda\\3\\lib\\site-packages\\sklearn\\linear_model\\_base.py\", line 420, in predict\n",
      "    scores = self.decision_function(X)\n",
      "  File \"C:\\Users\\jp_gl\\.julia\\conda\\3\\lib\\site-packages\\sklearn\\linear_model\\_base.py\", line 398, in decision_function\n",
      "    check_is_fitted(self)\n",
      "  File \"C:\\Users\\jp_gl\\.julia\\conda\\3\\lib\\site-packages\\sklearn\\utils\\validation.py\", line 1380, in check_is_fitted\n",
      "    raise NotFittedError(msg % {\"name\": type(estimator).__name__})\n",
      "\n",
      "\n",
      "Stacktrace:\n",
      "  [1] pyerr_check\n",
      "    @ C:\\Users\\jp_gl\\.julia\\packages\\PyCall\\ygXW2\\src\\exception.jl:62 [inlined]\n",
      "  [2] pyerr_check\n",
      "    @ C:\\Users\\jp_gl\\.julia\\packages\\PyCall\\ygXW2\\src\\exception.jl:66 [inlined]\n",
      "  [3] _handle_error(msg::String)\n",
      "    @ PyCall C:\\Users\\jp_gl\\.julia\\packages\\PyCall\\ygXW2\\src\\exception.jl:83\n",
      "  [4] macro expansion\n",
      "    @ C:\\Users\\jp_gl\\.julia\\packages\\PyCall\\ygXW2\\src\\exception.jl:97 [inlined]\n",
      "  [5] #107\n",
      "    @ C:\\Users\\jp_gl\\.julia\\packages\\PyCall\\ygXW2\\src\\pyfncall.jl:43 [inlined]\n",
      "  [6] disable_sigint\n",
      "    @ .\\c.jl:473 [inlined]\n",
      "  [7] __pycall!\n",
      "    @ C:\\Users\\jp_gl\\.julia\\packages\\PyCall\\ygXW2\\src\\pyfncall.jl:42 [inlined]\n",
      "  [8] _pycall!(ret::PyCall.PyObject, o::PyCall.PyObject, args::Tuple{Vector{Float64}}, nargs::Int64, kw::Ptr{Nothing})\n",
      "    @ PyCall C:\\Users\\jp_gl\\.julia\\packages\\PyCall\\ygXW2\\src\\pyfncall.jl:29\n",
      "  [9] _pycall!(ret::PyCall.PyObject, o::PyCall.PyObject, args::Tuple{Vector{Float64}}, kwargs::Base.Pairs{Symbol, Union{}, Tuple{}, NamedTuple{(), Tuple{}}})\n",
      "    @ PyCall C:\\Users\\jp_gl\\.julia\\packages\\PyCall\\ygXW2\\src\\pyfncall.jl:11\n",
      " [10] (::PyCall.PyObject)(::Vector{Float64}, ::Vararg{Any}; kwargs::Base.Pairs{Symbol, Union{}, Tuple{}, NamedTuple{(), Tuple{}}})\n",
      "    @ PyCall C:\\Users\\jp_gl\\.julia\\packages\\PyCall\\ygXW2\\src\\pyfncall.jl:86\n",
      " [11] (::PyCall.PyObject)(::Vector{Float64}, ::Vararg{Any})\n",
      "    @ PyCall C:\\Users\\jp_gl\\.julia\\packages\\PyCall\\ygXW2\\src\\pyfncall.jl:86\n",
      " [12] predict(py_model::PyCall.PyObject, args::Vector{Float64}; kwargs::Base.Pairs{Symbol, Union{}, Tuple{}, NamedTuple{(), Tuple{}}})\n",
      "    @ ScikitLearn.Skcore C:\\Users\\jp_gl\\.julia\\packages\\ScikitLearn\\Wvn7B\\src\\Skcore.jl:102\n",
      " [13] predict(py_model::PyCall.PyObject, args::Vector{Float64})\n",
      "    @ ScikitLearn.Skcore C:\\Users\\jp_gl\\.julia\\packages\\ScikitLearn\\Wvn7B\\src\\Skcore.jl:102\n",
      " [14] top-level scope\n",
      "    @ c:\\Users\\jp_gl\\OneDrive\\Documents\\GitHub\\Julia-Practice\\ml-in-julia.ipynb:1"
     ]
    }
   ],
   "source": [
    "predictions = predict(log_reg_model,iris_x)"
   ]
  },
  {
   "cell_type": "code",
   "execution_count": 66,
   "metadata": {},
   "outputs": [
    {
     "name": "stderr",
     "output_type": "stream",
     "text": [
      "WARNING: redefinition of constant accuracy_score. This may fail, cause incorrect answers, or produce other errors.\n"
     ]
    },
    {
     "data": {
      "text/plain": [
       "PyObject <function accuracy_score at 0x00000265D5FA8280>"
      ]
     },
     "metadata": {},
     "output_type": "display_data"
    }
   ],
   "source": [
    "@sk_import metrics: accuracy_score"
   ]
  },
  {
   "cell_type": "code",
   "execution_count": 67,
   "metadata": {},
   "outputs": [
    {
     "ename": "UndefVarError",
     "evalue": "UndefVarError: predictions not defined",
     "output_type": "error",
     "traceback": [
      "UndefVarError: predictions not defined\n",
      "\n",
      "Stacktrace:\n",
      " [1] top-level scope\n",
      "   @ c:\\Users\\jp_gl\\OneDrive\\Documents\\GitHub\\Julia-Practice\\ml-in-julia.ipynb:1"
     ]
    }
   ],
   "source": [
    "accuracy = accuracy_score(predictions, iris_y)"
   ]
  },
  {
   "cell_type": "code",
   "execution_count": 68,
   "metadata": {},
   "outputs": [
    {
     "name": "stderr",
     "output_type": "stream",
     "text": [
      "WARNING: redefinition of constant DecisionTreeClassifier. This may fail, cause incorrect answers, or produce other errors.\n"
     ]
    },
    {
     "data": {
      "text/plain": [
       "PyObject <class 'sklearn.tree._classes.DecisionTreeClassifier'>"
      ]
     },
     "metadata": {},
     "output_type": "display_data"
    }
   ],
   "source": [
    "@sk_import tree: DecisionTreeClassifier"
   ]
  },
  {
   "cell_type": "code",
   "execution_count": 69,
   "metadata": {},
   "outputs": [
    {
     "data": {
      "text/html": [
       "<style>#sk-container-id-30 {color: black;background-color: white;}#sk-container-id-30 pre{padding: 0;}#sk-container-id-30 div.sk-toggleable {background-color: white;}#sk-container-id-30 label.sk-toggleable__label {cursor: pointer;display: block;width: 100%;margin-bottom: 0;padding: 0.3em;box-sizing: border-box;text-align: center;}#sk-container-id-30 label.sk-toggleable__label-arrow:before {content: \"▸\";float: left;margin-right: 0.25em;color: #696969;}#sk-container-id-30 label.sk-toggleable__label-arrow:hover:before {color: black;}#sk-container-id-30 div.sk-estimator:hover label.sk-toggleable__label-arrow:before {color: black;}#sk-container-id-30 div.sk-toggleable__content {max-height: 0;max-width: 0;overflow: hidden;text-align: left;background-color: #f0f8ff;}#sk-container-id-30 div.sk-toggleable__content pre {margin: 0.2em;color: black;border-radius: 0.25em;background-color: #f0f8ff;}#sk-container-id-30 input.sk-toggleable__control:checked~div.sk-toggleable__content {max-height: 200px;max-width: 100%;overflow: auto;}#sk-container-id-30 input.sk-toggleable__control:checked~label.sk-toggleable__label-arrow:before {content: \"▾\";}#sk-container-id-30 div.sk-estimator input.sk-toggleable__control:checked~label.sk-toggleable__label {background-color: #d4ebff;}#sk-container-id-30 div.sk-label input.sk-toggleable__control:checked~label.sk-toggleable__label {background-color: #d4ebff;}#sk-container-id-30 input.sk-hidden--visually {border: 0;clip: rect(1px 1px 1px 1px);clip: rect(1px, 1px, 1px, 1px);height: 1px;margin: -1px;overflow: hidden;padding: 0;position: absolute;width: 1px;}#sk-container-id-30 div.sk-estimator {font-family: monospace;background-color: #f0f8ff;border: 1px dotted black;border-radius: 0.25em;box-sizing: border-box;margin-bottom: 0.5em;}#sk-container-id-30 div.sk-estimator:hover {background-color: #d4ebff;}#sk-container-id-30 div.sk-parallel-item::after {content: \"\";width: 100%;border-bottom: 1px solid gray;flex-grow: 1;}#sk-container-id-30 div.sk-label:hover label.sk-toggleable__label {background-color: #d4ebff;}#sk-container-id-30 div.sk-serial::before {content: \"\";position: absolute;border-left: 1px solid gray;box-sizing: border-box;top: 0;bottom: 0;left: 50%;z-index: 0;}#sk-container-id-30 div.sk-serial {display: flex;flex-direction: column;align-items: center;background-color: white;padding-right: 0.2em;padding-left: 0.2em;position: relative;}#sk-container-id-30 div.sk-item {position: relative;z-index: 1;}#sk-container-id-30 div.sk-parallel {display: flex;align-items: stretch;justify-content: center;background-color: white;position: relative;}#sk-container-id-30 div.sk-item::before, #sk-container-id-30 div.sk-parallel-item::before {content: \"\";position: absolute;border-left: 1px solid gray;box-sizing: border-box;top: 0;bottom: 0;left: 50%;z-index: -1;}#sk-container-id-30 div.sk-parallel-item {display: flex;flex-direction: column;z-index: 1;position: relative;background-color: white;}#sk-container-id-30 div.sk-parallel-item:first-child::after {align-self: flex-end;width: 50%;}#sk-container-id-30 div.sk-parallel-item:last-child::after {align-self: flex-start;width: 50%;}#sk-container-id-30 div.sk-parallel-item:only-child::after {width: 0;}#sk-container-id-30 div.sk-dashed-wrapped {border: 1px dashed gray;margin: 0 0.4em 0.5em 0.4em;box-sizing: border-box;padding-bottom: 0.4em;background-color: white;}#sk-container-id-30 div.sk-label label {font-family: monospace;font-weight: bold;display: inline-block;line-height: 1.2em;}#sk-container-id-30 div.sk-label-container {text-align: center;}#sk-container-id-30 div.sk-container {/* jupyter's `normalize.less` sets `[hidden] { display: none; }` but bootstrap.min.css set `[hidden] { display: none !important; }` so we also need the `!important` here to be able to override the default hidden behavior on the sphinx rendered scikit-learn.org. See: https://github.com/scikit-learn/scikit-learn/issues/21755 */display: inline-block !important;position: relative;}#sk-container-id-30 div.sk-text-repr-fallback {display: none;}</style><div id=\"sk-container-id-30\" class=\"sk-top-container\"><div class=\"sk-text-repr-fallback\"><pre>DecisionTreeClassifier()</pre><b>In a Jupyter environment, please rerun this cell to show the HTML representation or trust the notebook. <br />On GitHub, the HTML representation is unable to render, please try loading this page with nbviewer.org.</b></div><div class=\"sk-container\" hidden><div class=\"sk-item\"><div class=\"sk-estimator sk-toggleable\"><input class=\"sk-toggleable__control sk-hidden--visually\" id=\"sk-estimator-id-30\" type=\"checkbox\" checked><label for=\"sk-estimator-id-30\" class=\"sk-toggleable__label sk-toggleable__label-arrow\">DecisionTreeClassifier</label><div class=\"sk-toggleable__content\"><pre>DecisionTreeClassifier()</pre></div></div></div></div></div>"
      ],
      "text/plain": [
       "PyObject DecisionTreeClassifier()"
      ]
     },
     "metadata": {},
     "output_type": "display_data"
    }
   ],
   "source": [
    "tree_model = DecisionTreeClassifier()"
   ]
  },
  {
   "cell_type": "code",
   "execution_count": 70,
   "metadata": {},
   "outputs": [
    {
     "ename": "PyCall.PyError",
     "evalue": "PyError ($(Expr(:escape, :(ccall(#= C:\\Users\\jp_gl\\.julia\\packages\\PyCall\\ygXW2\\src\\pyfncall.jl:43 =# @pysym(:PyObject_Call), PyPtr, (PyPtr, PyPtr, PyPtr), o, pyargsptr, kw))))) <class 'ValueError'>\nValueError('Expected 2D array, got 1D array instead:\\narray=[5.1 4.9 4.7 4.6 5.  5.4 4.6 5.  4.4 4.9 5.4 4.8 4.8 4.3 5.8 5.7 5.4 5.1\\n 5.7 5.1 5.4 5.1 4.6 5.1 4.8 5.  5.  5.2 5.2 4.7 4.8 5.4 5.2 5.5 4.9 5.\\n 5.5 4.9 4.4 5.1 5.  4.5 4.4 5.  5.1 4.8 5.1 4.6 5.3 5.  7.  6.4 6.9 5.5\\n 6.5 5.7 6.3 4.9 6.6 5.2 5.  5.9 6.  6.1 5.6 6.7 5.6 5.8 6.2 5.6 5.9 6.1\\n 6.3 6.1 6.4 6.6 6.8 6.7 6.  5.7 5.5 5.5 5.8 6.  5.4 6.  6.7 6.3 5.6 5.5\\n 5.5 6.1 5.8 5.  5.6 5.7 5.7 6.2 5.1 5.7 6.3 5.8 7.1 6.3 6.5 7.6 4.9 7.3\\n 6.7 7.2 6.5 6.4 6.8 5.7 5.8 6.4 6.5 7.7 7.7 6.  6.9 5.6 7.7 6.3 6.7 7.2\\n 6.2 6.1 6.4 7.2 7.4 7.9 6.4 6.3 6.1 7.7 6.3 6.4 6.  6.9 6.7 6.9 5.8 6.8\\n 6.7 6.7 6.3 6.5 6.2 5.9].\\nReshape your data either using array.reshape(-1, 1) if your data has a single feature or array.reshape(1, -1) if it contains a single sample.')\n  File \"C:\\Users\\jp_gl\\.julia\\conda\\3\\lib\\site-packages\\sklearn\\tree\\_classes.py\", line 889, in fit\n    super().fit(\n  File \"C:\\Users\\jp_gl\\.julia\\conda\\3\\lib\\site-packages\\sklearn\\tree\\_classes.py\", line 186, in fit\n    X, y = self._validate_data(\n  File \"C:\\Users\\jp_gl\\.julia\\conda\\3\\lib\\site-packages\\sklearn\\base.py\", line 549, in _validate_data\n    X = check_array(X, input_name=\"X\", **check_X_params)\n  File \"C:\\Users\\jp_gl\\.julia\\conda\\3\\lib\\site-packages\\sklearn\\utils\\validation.py\", line 900, in check_array\n    raise ValueError(\n",
     "output_type": "error",
     "traceback": [
      "PyError ($(Expr(:escape, :(ccall(#= C:\\Users\\jp_gl\\.julia\\packages\\PyCall\\ygXW2\\src\\pyfncall.jl:43 =# @pysym(:PyObject_Call), PyPtr, (PyPtr, PyPtr, PyPtr), o, pyargsptr, kw))))) <class 'ValueError'>\n",
      "ValueError('Expected 2D array, got 1D array instead:\\narray=[5.1 4.9 4.7 4.6 5.  5.4 4.6 5.  4.4 4.9 5.4 4.8 4.8 4.3 5.8 5.7 5.4 5.1\\n 5.7 5.1 5.4 5.1 4.6 5.1 4.8 5.  5.  5.2 5.2 4.7 4.8 5.4 5.2 5.5 4.9 5.\\n 5.5 4.9 4.4 5.1 5.  4.5 4.4 5.  5.1 4.8 5.1 4.6 5.3 5.  7.  6.4 6.9 5.5\\n 6.5 5.7 6.3 4.9 6.6 5.2 5.  5.9 6.  6.1 5.6 6.7 5.6 5.8 6.2 5.6 5.9 6.1\\n 6.3 6.1 6.4 6.6 6.8 6.7 6.  5.7 5.5 5.5 5.8 6.  5.4 6.  6.7 6.3 5.6 5.5\\n 5.5 6.1 5.8 5.  5.6 5.7 5.7 6.2 5.1 5.7 6.3 5.8 7.1 6.3 6.5 7.6 4.9 7.3\\n 6.7 7.2 6.5 6.4 6.8 5.7 5.8 6.4 6.5 7.7 7.7 6.  6.9 5.6 7.7 6.3 6.7 7.2\\n 6.2 6.1 6.4 7.2 7.4 7.9 6.4 6.3 6.1 7.7 6.3 6.4 6.  6.9 6.7 6.9 5.8 6.8\\n 6.7 6.7 6.3 6.5 6.2 5.9].\\nReshape your data either using array.reshape(-1, 1) if your data has a single feature or array.reshape(1, -1) if it contains a single sample.')\n",
      "  File \"C:\\Users\\jp_gl\\.julia\\conda\\3\\lib\\site-packages\\sklearn\\tree\\_classes.py\", line 889, in fit\n",
      "    super().fit(\n",
      "  File \"C:\\Users\\jp_gl\\.julia\\conda\\3\\lib\\site-packages\\sklearn\\tree\\_classes.py\", line 186, in fit\n",
      "    X, y = self._validate_data(\n",
      "  File \"C:\\Users\\jp_gl\\.julia\\conda\\3\\lib\\site-packages\\sklearn\\base.py\", line 549, in _validate_data\n",
      "    X = check_array(X, input_name=\"X\", **check_X_params)\n",
      "  File \"C:\\Users\\jp_gl\\.julia\\conda\\3\\lib\\site-packages\\sklearn\\utils\\validation.py\", line 900, in check_array\n",
      "    raise ValueError(\n",
      "\n",
      "\n",
      "Stacktrace:\n",
      "  [1] pyerr_check\n",
      "    @ C:\\Users\\jp_gl\\.julia\\packages\\PyCall\\ygXW2\\src\\exception.jl:62 [inlined]\n",
      "  [2] pyerr_check\n",
      "    @ C:\\Users\\jp_gl\\.julia\\packages\\PyCall\\ygXW2\\src\\exception.jl:66 [inlined]\n",
      "  [3] _handle_error(msg::String)\n",
      "    @ PyCall C:\\Users\\jp_gl\\.julia\\packages\\PyCall\\ygXW2\\src\\exception.jl:83\n",
      "  [4] macro expansion\n",
      "    @ C:\\Users\\jp_gl\\.julia\\packages\\PyCall\\ygXW2\\src\\exception.jl:97 [inlined]\n",
      "  [5] #107\n",
      "    @ C:\\Users\\jp_gl\\.julia\\packages\\PyCall\\ygXW2\\src\\pyfncall.jl:43 [inlined]\n",
      "  [6] disable_sigint\n",
      "    @ .\\c.jl:473 [inlined]\n",
      "  [7] __pycall!\n",
      "    @ C:\\Users\\jp_gl\\.julia\\packages\\PyCall\\ygXW2\\src\\pyfncall.jl:42 [inlined]\n",
      "  [8] _pycall!(ret::PyCall.PyObject, o::PyCall.PyObject, args::Tuple{Vector{Float64}, Vector{String15}}, nargs::Int64, kw::Ptr{Nothing})\n",
      "    @ PyCall C:\\Users\\jp_gl\\.julia\\packages\\PyCall\\ygXW2\\src\\pyfncall.jl:29\n",
      "  [9] _pycall!(ret::PyCall.PyObject, o::PyCall.PyObject, args::Tuple{Vector{Float64}, Vector{String15}}, kwargs::Base.Pairs{Symbol, Union{}, Tuple{}, NamedTuple{(), Tuple{}}})\n",
      "    @ PyCall C:\\Users\\jp_gl\\.julia\\packages\\PyCall\\ygXW2\\src\\pyfncall.jl:11\n",
      " [10] (::PyCall.PyObject)(::Vector{Float64}, ::Vararg{Any}; kwargs::Base.Pairs{Symbol, Union{}, Tuple{}, NamedTuple{(), Tuple{}}})\n",
      "    @ PyCall C:\\Users\\jp_gl\\.julia\\packages\\PyCall\\ygXW2\\src\\pyfncall.jl:86\n",
      " [11] (::PyCall.PyObject)(::Vector{Float64}, ::Vararg{Any})\n",
      "    @ PyCall C:\\Users\\jp_gl\\.julia\\packages\\PyCall\\ygXW2\\src\\pyfncall.jl:86\n",
      " [12] fit!(::PyCall.PyObject, ::Vector{Float64}, ::Vararg{Any}; kwargs::Base.Pairs{Symbol, Union{}, Tuple{}, NamedTuple{(), Tuple{}}})\n",
      "    @ ScikitLearn.Skcore C:\\Users\\jp_gl\\.julia\\packages\\ScikitLearn\\Wvn7B\\src\\Skcore.jl:102\n",
      " [13] fit!(::PyCall.PyObject, ::Vector{Float64}, ::Vector{String15})\n",
      "    @ ScikitLearn.Skcore C:\\Users\\jp_gl\\.julia\\packages\\ScikitLearn\\Wvn7B\\src\\Skcore.jl:102\n",
      " [14] top-level scope\n",
      "    @ c:\\Users\\jp_gl\\OneDrive\\Documents\\GitHub\\Julia-Practice\\ml-in-julia.ipynb:1"
     ]
    }
   ],
   "source": [
    "fit!(tree_model, iris_x, iris_y)"
   ]
  },
  {
   "cell_type": "code",
   "execution_count": 71,
   "metadata": {},
   "outputs": [
    {
     "ename": "PyCall.PyError",
     "evalue": "PyError ($(Expr(:escape, :(ccall(#= C:\\Users\\jp_gl\\.julia\\packages\\PyCall\\ygXW2\\src\\pyfncall.jl:43 =# @pysym(:PyObject_Call), PyPtr, (PyPtr, PyPtr, PyPtr), o, pyargsptr, kw))))) <class 'sklearn.exceptions.NotFittedError'>\nNotFittedError(\"This DecisionTreeClassifier instance is not fitted yet. Call 'fit' with appropriate arguments before using this estimator.\")\n  File \"C:\\Users\\jp_gl\\.julia\\conda\\3\\lib\\site-packages\\sklearn\\tree\\_classes.py\", line 425, in predict\n    check_is_fitted(self)\n  File \"C:\\Users\\jp_gl\\.julia\\conda\\3\\lib\\site-packages\\sklearn\\utils\\validation.py\", line 1380, in check_is_fitted\n    raise NotFittedError(msg % {\"name\": type(estimator).__name__})\n",
     "output_type": "error",
     "traceback": [
      "PyError ($(Expr(:escape, :(ccall(#= C:\\Users\\jp_gl\\.julia\\packages\\PyCall\\ygXW2\\src\\pyfncall.jl:43 =# @pysym(:PyObject_Call), PyPtr, (PyPtr, PyPtr, PyPtr), o, pyargsptr, kw))))) <class 'sklearn.exceptions.NotFittedError'>\n",
      "NotFittedError(\"This DecisionTreeClassifier instance is not fitted yet. Call 'fit' with appropriate arguments before using this estimator.\")\n",
      "  File \"C:\\Users\\jp_gl\\.julia\\conda\\3\\lib\\site-packages\\sklearn\\tree\\_classes.py\", line 425, in predict\n",
      "    check_is_fitted(self)\n",
      "  File \"C:\\Users\\jp_gl\\.julia\\conda\\3\\lib\\site-packages\\sklearn\\utils\\validation.py\", line 1380, in check_is_fitted\n",
      "    raise NotFittedError(msg % {\"name\": type(estimator).__name__})\n",
      "\n",
      "\n",
      "Stacktrace:\n",
      "  [1] pyerr_check\n",
      "    @ C:\\Users\\jp_gl\\.julia\\packages\\PyCall\\ygXW2\\src\\exception.jl:62 [inlined]\n",
      "  [2] pyerr_check\n",
      "    @ C:\\Users\\jp_gl\\.julia\\packages\\PyCall\\ygXW2\\src\\exception.jl:66 [inlined]\n",
      "  [3] _handle_error(msg::String)\n",
      "    @ PyCall C:\\Users\\jp_gl\\.julia\\packages\\PyCall\\ygXW2\\src\\exception.jl:83\n",
      "  [4] macro expansion\n",
      "    @ C:\\Users\\jp_gl\\.julia\\packages\\PyCall\\ygXW2\\src\\exception.jl:97 [inlined]\n",
      "  [5] #107\n",
      "    @ C:\\Users\\jp_gl\\.julia\\packages\\PyCall\\ygXW2\\src\\pyfncall.jl:43 [inlined]\n",
      "  [6] disable_sigint\n",
      "    @ .\\c.jl:473 [inlined]\n",
      "  [7] __pycall!\n",
      "    @ C:\\Users\\jp_gl\\.julia\\packages\\PyCall\\ygXW2\\src\\pyfncall.jl:42 [inlined]\n",
      "  [8] _pycall!(ret::PyCall.PyObject, o::PyCall.PyObject, args::Tuple{Vector{Float64}}, nargs::Int64, kw::Ptr{Nothing})\n",
      "    @ PyCall C:\\Users\\jp_gl\\.julia\\packages\\PyCall\\ygXW2\\src\\pyfncall.jl:29\n",
      "  [9] _pycall!(ret::PyCall.PyObject, o::PyCall.PyObject, args::Tuple{Vector{Float64}}, kwargs::Base.Pairs{Symbol, Union{}, Tuple{}, NamedTuple{(), Tuple{}}})\n",
      "    @ PyCall C:\\Users\\jp_gl\\.julia\\packages\\PyCall\\ygXW2\\src\\pyfncall.jl:11\n",
      " [10] (::PyCall.PyObject)(::Vector{Float64}, ::Vararg{Any}; kwargs::Base.Pairs{Symbol, Union{}, Tuple{}, NamedTuple{(), Tuple{}}})\n",
      "    @ PyCall C:\\Users\\jp_gl\\.julia\\packages\\PyCall\\ygXW2\\src\\pyfncall.jl:86\n",
      " [11] (::PyCall.PyObject)(::Vector{Float64}, ::Vararg{Any})\n",
      "    @ PyCall C:\\Users\\jp_gl\\.julia\\packages\\PyCall\\ygXW2\\src\\pyfncall.jl:86\n",
      " [12] predict(py_model::PyCall.PyObject, args::Vector{Float64}; kwargs::Base.Pairs{Symbol, Union{}, Tuple{}, NamedTuple{(), Tuple{}}})\n",
      "    @ ScikitLearn.Skcore C:\\Users\\jp_gl\\.julia\\packages\\ScikitLearn\\Wvn7B\\src\\Skcore.jl:102\n",
      " [13] predict(py_model::PyCall.PyObject, args::Vector{Float64})\n",
      "    @ ScikitLearn.Skcore C:\\Users\\jp_gl\\.julia\\packages\\ScikitLearn\\Wvn7B\\src\\Skcore.jl:102\n",
      " [14] top-level scope\n",
      "    @ c:\\Users\\jp_gl\\OneDrive\\Documents\\GitHub\\Julia-Practice\\ml-in-julia.ipynb:1"
     ]
    }
   ],
   "source": [
    "tree_predictions = predict(tree_model,iris_x)"
   ]
  },
  {
   "cell_type": "code",
   "execution_count": 72,
   "metadata": {},
   "outputs": [
    {
     "ename": "UndefVarError",
     "evalue": "UndefVarError: tree_predictions not defined",
     "output_type": "error",
     "traceback": [
      "UndefVarError: tree_predictions not defined\n",
      "\n",
      "Stacktrace:\n",
      " [1] top-level scope\n",
      "   @ c:\\Users\\jp_gl\\OneDrive\\Documents\\GitHub\\Julia-Practice\\ml-in-julia.ipynb:1"
     ]
    }
   ],
   "source": [
    "tree_accuracy = accuracy_score(tree_predictions, iris_y)"
   ]
  },
  {
   "cell_type": "code",
   "execution_count": 73,
   "metadata": {},
   "outputs": [
    {
     "name": "stderr",
     "output_type": "stream",
     "text": [
      "WARNING: redefinition of constant RandomForestClassifier. This may fail, cause incorrect answers, or produce other errors.\n"
     ]
    },
    {
     "data": {
      "text/plain": [
       "PyObject <class 'sklearn.ensemble._forest.RandomForestClassifier'>"
      ]
     },
     "metadata": {},
     "output_type": "display_data"
    }
   ],
   "source": [
    "@sk_import ensemble: RandomForestClassifier"
   ]
  },
  {
   "cell_type": "code",
   "execution_count": 74,
   "metadata": {},
   "outputs": [
    {
     "data": {
      "text/html": [
       "<style>#sk-container-id-33 {color: black;background-color: white;}#sk-container-id-33 pre{padding: 0;}#sk-container-id-33 div.sk-toggleable {background-color: white;}#sk-container-id-33 label.sk-toggleable__label {cursor: pointer;display: block;width: 100%;margin-bottom: 0;padding: 0.3em;box-sizing: border-box;text-align: center;}#sk-container-id-33 label.sk-toggleable__label-arrow:before {content: \"▸\";float: left;margin-right: 0.25em;color: #696969;}#sk-container-id-33 label.sk-toggleable__label-arrow:hover:before {color: black;}#sk-container-id-33 div.sk-estimator:hover label.sk-toggleable__label-arrow:before {color: black;}#sk-container-id-33 div.sk-toggleable__content {max-height: 0;max-width: 0;overflow: hidden;text-align: left;background-color: #f0f8ff;}#sk-container-id-33 div.sk-toggleable__content pre {margin: 0.2em;color: black;border-radius: 0.25em;background-color: #f0f8ff;}#sk-container-id-33 input.sk-toggleable__control:checked~div.sk-toggleable__content {max-height: 200px;max-width: 100%;overflow: auto;}#sk-container-id-33 input.sk-toggleable__control:checked~label.sk-toggleable__label-arrow:before {content: \"▾\";}#sk-container-id-33 div.sk-estimator input.sk-toggleable__control:checked~label.sk-toggleable__label {background-color: #d4ebff;}#sk-container-id-33 div.sk-label input.sk-toggleable__control:checked~label.sk-toggleable__label {background-color: #d4ebff;}#sk-container-id-33 input.sk-hidden--visually {border: 0;clip: rect(1px 1px 1px 1px);clip: rect(1px, 1px, 1px, 1px);height: 1px;margin: -1px;overflow: hidden;padding: 0;position: absolute;width: 1px;}#sk-container-id-33 div.sk-estimator {font-family: monospace;background-color: #f0f8ff;border: 1px dotted black;border-radius: 0.25em;box-sizing: border-box;margin-bottom: 0.5em;}#sk-container-id-33 div.sk-estimator:hover {background-color: #d4ebff;}#sk-container-id-33 div.sk-parallel-item::after {content: \"\";width: 100%;border-bottom: 1px solid gray;flex-grow: 1;}#sk-container-id-33 div.sk-label:hover label.sk-toggleable__label {background-color: #d4ebff;}#sk-container-id-33 div.sk-serial::before {content: \"\";position: absolute;border-left: 1px solid gray;box-sizing: border-box;top: 0;bottom: 0;left: 50%;z-index: 0;}#sk-container-id-33 div.sk-serial {display: flex;flex-direction: column;align-items: center;background-color: white;padding-right: 0.2em;padding-left: 0.2em;position: relative;}#sk-container-id-33 div.sk-item {position: relative;z-index: 1;}#sk-container-id-33 div.sk-parallel {display: flex;align-items: stretch;justify-content: center;background-color: white;position: relative;}#sk-container-id-33 div.sk-item::before, #sk-container-id-33 div.sk-parallel-item::before {content: \"\";position: absolute;border-left: 1px solid gray;box-sizing: border-box;top: 0;bottom: 0;left: 50%;z-index: -1;}#sk-container-id-33 div.sk-parallel-item {display: flex;flex-direction: column;z-index: 1;position: relative;background-color: white;}#sk-container-id-33 div.sk-parallel-item:first-child::after {align-self: flex-end;width: 50%;}#sk-container-id-33 div.sk-parallel-item:last-child::after {align-self: flex-start;width: 50%;}#sk-container-id-33 div.sk-parallel-item:only-child::after {width: 0;}#sk-container-id-33 div.sk-dashed-wrapped {border: 1px dashed gray;margin: 0 0.4em 0.5em 0.4em;box-sizing: border-box;padding-bottom: 0.4em;background-color: white;}#sk-container-id-33 div.sk-label label {font-family: monospace;font-weight: bold;display: inline-block;line-height: 1.2em;}#sk-container-id-33 div.sk-label-container {text-align: center;}#sk-container-id-33 div.sk-container {/* jupyter's `normalize.less` sets `[hidden] { display: none; }` but bootstrap.min.css set `[hidden] { display: none !important; }` so we also need the `!important` here to be able to override the default hidden behavior on the sphinx rendered scikit-learn.org. See: https://github.com/scikit-learn/scikit-learn/issues/21755 */display: inline-block !important;position: relative;}#sk-container-id-33 div.sk-text-repr-fallback {display: none;}</style><div id=\"sk-container-id-33\" class=\"sk-top-container\"><div class=\"sk-text-repr-fallback\"><pre>RandomForestClassifier()</pre><b>In a Jupyter environment, please rerun this cell to show the HTML representation or trust the notebook. <br />On GitHub, the HTML representation is unable to render, please try loading this page with nbviewer.org.</b></div><div class=\"sk-container\" hidden><div class=\"sk-item\"><div class=\"sk-estimator sk-toggleable\"><input class=\"sk-toggleable__control sk-hidden--visually\" id=\"sk-estimator-id-33\" type=\"checkbox\" checked><label for=\"sk-estimator-id-33\" class=\"sk-toggleable__label sk-toggleable__label-arrow\">RandomForestClassifier</label><div class=\"sk-toggleable__content\"><pre>RandomForestClassifier()</pre></div></div></div></div></div>"
      ],
      "text/plain": [
       "PyObject RandomForestClassifier()"
      ]
     },
     "metadata": {},
     "output_type": "display_data"
    }
   ],
   "source": [
    "rf_model = RandomForestClassifier()"
   ]
  },
  {
   "cell_type": "code",
   "execution_count": 75,
   "metadata": {},
   "outputs": [
    {
     "ename": "PyCall.PyError",
     "evalue": "PyError ($(Expr(:escape, :(ccall(#= C:\\Users\\jp_gl\\.julia\\packages\\PyCall\\ygXW2\\src\\pyfncall.jl:43 =# @pysym(:PyObject_Call), PyPtr, (PyPtr, PyPtr, PyPtr), o, pyargsptr, kw))))) <class 'ValueError'>\nValueError('Expected 2D array, got 1D array instead:\\narray=[5.1 4.9 4.7 4.6 5.  5.4 4.6 5.  4.4 4.9 5.4 4.8 4.8 4.3 5.8 5.7 5.4 5.1\\n 5.7 5.1 5.4 5.1 4.6 5.1 4.8 5.  5.  5.2 5.2 4.7 4.8 5.4 5.2 5.5 4.9 5.\\n 5.5 4.9 4.4 5.1 5.  4.5 4.4 5.  5.1 4.8 5.1 4.6 5.3 5.  7.  6.4 6.9 5.5\\n 6.5 5.7 6.3 4.9 6.6 5.2 5.  5.9 6.  6.1 5.6 6.7 5.6 5.8 6.2 5.6 5.9 6.1\\n 6.3 6.1 6.4 6.6 6.8 6.7 6.  5.7 5.5 5.5 5.8 6.  5.4 6.  6.7 6.3 5.6 5.5\\n 5.5 6.1 5.8 5.  5.6 5.7 5.7 6.2 5.1 5.7 6.3 5.8 7.1 6.3 6.5 7.6 4.9 7.3\\n 6.7 7.2 6.5 6.4 6.8 5.7 5.8 6.4 6.5 7.7 7.7 6.  6.9 5.6 7.7 6.3 6.7 7.2\\n 6.2 6.1 6.4 7.2 7.4 7.9 6.4 6.3 6.1 7.7 6.3 6.4 6.  6.9 6.7 6.9 5.8 6.8\\n 6.7 6.7 6.3 6.5 6.2 5.9].\\nReshape your data either using array.reshape(-1, 1) if your data has a single feature or array.reshape(1, -1) if it contains a single sample.')\n  File \"C:\\Users\\jp_gl\\.julia\\conda\\3\\lib\\site-packages\\sklearn\\ensemble\\_forest.py\", line 346, in fit\n    X, y = self._validate_data(\n  File \"C:\\Users\\jp_gl\\.julia\\conda\\3\\lib\\site-packages\\sklearn\\base.py\", line 554, in _validate_data\n    X, y = check_X_y(X, y, **check_params)\n  File \"C:\\Users\\jp_gl\\.julia\\conda\\3\\lib\\site-packages\\sklearn\\utils\\validation.py\", line 1104, in check_X_y\n    X = check_array(\n  File \"C:\\Users\\jp_gl\\.julia\\conda\\3\\lib\\site-packages\\sklearn\\utils\\validation.py\", line 900, in check_array\n    raise ValueError(\n",
     "output_type": "error",
     "traceback": [
      "PyError ($(Expr(:escape, :(ccall(#= C:\\Users\\jp_gl\\.julia\\packages\\PyCall\\ygXW2\\src\\pyfncall.jl:43 =# @pysym(:PyObject_Call), PyPtr, (PyPtr, PyPtr, PyPtr), o, pyargsptr, kw))))) <class 'ValueError'>\n",
      "ValueError('Expected 2D array, got 1D array instead:\\narray=[5.1 4.9 4.7 4.6 5.  5.4 4.6 5.  4.4 4.9 5.4 4.8 4.8 4.3 5.8 5.7 5.4 5.1\\n 5.7 5.1 5.4 5.1 4.6 5.1 4.8 5.  5.  5.2 5.2 4.7 4.8 5.4 5.2 5.5 4.9 5.\\n 5.5 4.9 4.4 5.1 5.  4.5 4.4 5.  5.1 4.8 5.1 4.6 5.3 5.  7.  6.4 6.9 5.5\\n 6.5 5.7 6.3 4.9 6.6 5.2 5.  5.9 6.  6.1 5.6 6.7 5.6 5.8 6.2 5.6 5.9 6.1\\n 6.3 6.1 6.4 6.6 6.8 6.7 6.  5.7 5.5 5.5 5.8 6.  5.4 6.  6.7 6.3 5.6 5.5\\n 5.5 6.1 5.8 5.  5.6 5.7 5.7 6.2 5.1 5.7 6.3 5.8 7.1 6.3 6.5 7.6 4.9 7.3\\n 6.7 7.2 6.5 6.4 6.8 5.7 5.8 6.4 6.5 7.7 7.7 6.  6.9 5.6 7.7 6.3 6.7 7.2\\n 6.2 6.1 6.4 7.2 7.4 7.9 6.4 6.3 6.1 7.7 6.3 6.4 6.  6.9 6.7 6.9 5.8 6.8\\n 6.7 6.7 6.3 6.5 6.2 5.9].\\nReshape your data either using array.reshape(-1, 1) if your data has a single feature or array.reshape(1, -1) if it contains a single sample.')\n",
      "  File \"C:\\Users\\jp_gl\\.julia\\conda\\3\\lib\\site-packages\\sklearn\\ensemble\\_forest.py\", line 346, in fit\n",
      "    X, y = self._validate_data(\n",
      "  File \"C:\\Users\\jp_gl\\.julia\\conda\\3\\lib\\site-packages\\sklearn\\base.py\", line 554, in _validate_data\n",
      "    X, y = check_X_y(X, y, **check_params)\n",
      "  File \"C:\\Users\\jp_gl\\.julia\\conda\\3\\lib\\site-packages\\sklearn\\utils\\validation.py\", line 1104, in check_X_y\n",
      "    X = check_array(\n",
      "  File \"C:\\Users\\jp_gl\\.julia\\conda\\3\\lib\\site-packages\\sklearn\\utils\\validation.py\", line 900, in check_array\n",
      "    raise ValueError(\n",
      "\n",
      "\n",
      "Stacktrace:\n",
      "  [1] pyerr_check\n",
      "    @ C:\\Users\\jp_gl\\.julia\\packages\\PyCall\\ygXW2\\src\\exception.jl:62 [inlined]\n",
      "  [2] pyerr_check\n",
      "    @ C:\\Users\\jp_gl\\.julia\\packages\\PyCall\\ygXW2\\src\\exception.jl:66 [inlined]\n",
      "  [3] _handle_error(msg::String)\n",
      "    @ PyCall C:\\Users\\jp_gl\\.julia\\packages\\PyCall\\ygXW2\\src\\exception.jl:83\n",
      "  [4] macro expansion\n",
      "    @ C:\\Users\\jp_gl\\.julia\\packages\\PyCall\\ygXW2\\src\\exception.jl:97 [inlined]\n",
      "  [5] #107\n",
      "    @ C:\\Users\\jp_gl\\.julia\\packages\\PyCall\\ygXW2\\src\\pyfncall.jl:43 [inlined]\n",
      "  [6] disable_sigint\n",
      "    @ .\\c.jl:473 [inlined]\n",
      "  [7] __pycall!\n",
      "    @ C:\\Users\\jp_gl\\.julia\\packages\\PyCall\\ygXW2\\src\\pyfncall.jl:42 [inlined]\n",
      "  [8] _pycall!(ret::PyCall.PyObject, o::PyCall.PyObject, args::Tuple{Vector{Float64}, Vector{String15}}, nargs::Int64, kw::Ptr{Nothing})\n",
      "    @ PyCall C:\\Users\\jp_gl\\.julia\\packages\\PyCall\\ygXW2\\src\\pyfncall.jl:29\n",
      "  [9] _pycall!(ret::PyCall.PyObject, o::PyCall.PyObject, args::Tuple{Vector{Float64}, Vector{String15}}, kwargs::Base.Pairs{Symbol, Union{}, Tuple{}, NamedTuple{(), Tuple{}}})\n",
      "    @ PyCall C:\\Users\\jp_gl\\.julia\\packages\\PyCall\\ygXW2\\src\\pyfncall.jl:11\n",
      " [10] (::PyCall.PyObject)(::Vector{Float64}, ::Vararg{Any}; kwargs::Base.Pairs{Symbol, Union{}, Tuple{}, NamedTuple{(), Tuple{}}})\n",
      "    @ PyCall C:\\Users\\jp_gl\\.julia\\packages\\PyCall\\ygXW2\\src\\pyfncall.jl:86\n",
      " [11] (::PyCall.PyObject)(::Vector{Float64}, ::Vararg{Any})\n",
      "    @ PyCall C:\\Users\\jp_gl\\.julia\\packages\\PyCall\\ygXW2\\src\\pyfncall.jl:86\n",
      " [12] fit!(::PyCall.PyObject, ::Vector{Float64}, ::Vararg{Any}; kwargs::Base.Pairs{Symbol, Union{}, Tuple{}, NamedTuple{(), Tuple{}}})\n",
      "    @ ScikitLearn.Skcore C:\\Users\\jp_gl\\.julia\\packages\\ScikitLearn\\Wvn7B\\src\\Skcore.jl:102\n",
      " [13] fit!(::PyCall.PyObject, ::Vector{Float64}, ::Vector{String15})\n",
      "    @ ScikitLearn.Skcore C:\\Users\\jp_gl\\.julia\\packages\\ScikitLearn\\Wvn7B\\src\\Skcore.jl:102\n",
      " [14] top-level scope\n",
      "    @ c:\\Users\\jp_gl\\OneDrive\\Documents\\GitHub\\Julia-Practice\\ml-in-julia.ipynb:1"
     ]
    }
   ],
   "source": [
    "fit!(rf_model, iris_x, iris_y)"
   ]
  },
  {
   "cell_type": "code",
   "execution_count": 76,
   "metadata": {},
   "outputs": [
    {
     "ename": "PyCall.PyError",
     "evalue": "PyError ($(Expr(:escape, :(ccall(#= C:\\Users\\jp_gl\\.julia\\packages\\PyCall\\ygXW2\\src\\pyfncall.jl:43 =# @pysym(:PyObject_Call), PyPtr, (PyPtr, PyPtr, PyPtr), o, pyargsptr, kw))))) <class 'sklearn.exceptions.NotFittedError'>\nNotFittedError(\"This RandomForestClassifier instance is not fitted yet. Call 'fit' with appropriate arguments before using this estimator.\")\n  File \"C:\\Users\\jp_gl\\.julia\\conda\\3\\lib\\site-packages\\sklearn\\ensemble\\_forest.py\", line 821, in predict\n    proba = self.predict_proba(X)\n  File \"C:\\Users\\jp_gl\\.julia\\conda\\3\\lib\\site-packages\\sklearn\\ensemble\\_forest.py\", line 861, in predict_proba\n    check_is_fitted(self)\n  File \"C:\\Users\\jp_gl\\.julia\\conda\\3\\lib\\site-packages\\sklearn\\utils\\validation.py\", line 1380, in check_is_fitted\n    raise NotFittedError(msg % {\"name\": type(estimator).__name__})\n",
     "output_type": "error",
     "traceback": [
      "PyError ($(Expr(:escape, :(ccall(#= C:\\Users\\jp_gl\\.julia\\packages\\PyCall\\ygXW2\\src\\pyfncall.jl:43 =# @pysym(:PyObject_Call), PyPtr, (PyPtr, PyPtr, PyPtr), o, pyargsptr, kw))))) <class 'sklearn.exceptions.NotFittedError'>\n",
      "NotFittedError(\"This RandomForestClassifier instance is not fitted yet. Call 'fit' with appropriate arguments before using this estimator.\")\n",
      "  File \"C:\\Users\\jp_gl\\.julia\\conda\\3\\lib\\site-packages\\sklearn\\ensemble\\_forest.py\", line 821, in predict\n",
      "    proba = self.predict_proba(X)\n",
      "  File \"C:\\Users\\jp_gl\\.julia\\conda\\3\\lib\\site-packages\\sklearn\\ensemble\\_forest.py\", line 861, in predict_proba\n",
      "    check_is_fitted(self)\n",
      "  File \"C:\\Users\\jp_gl\\.julia\\conda\\3\\lib\\site-packages\\sklearn\\utils\\validation.py\", line 1380, in check_is_fitted\n",
      "    raise NotFittedError(msg % {\"name\": type(estimator).__name__})\n",
      "\n",
      "\n",
      "Stacktrace:\n",
      "  [1] pyerr_check\n",
      "    @ C:\\Users\\jp_gl\\.julia\\packages\\PyCall\\ygXW2\\src\\exception.jl:62 [inlined]\n",
      "  [2] pyerr_check\n",
      "    @ C:\\Users\\jp_gl\\.julia\\packages\\PyCall\\ygXW2\\src\\exception.jl:66 [inlined]\n",
      "  [3] _handle_error(msg::String)\n",
      "    @ PyCall C:\\Users\\jp_gl\\.julia\\packages\\PyCall\\ygXW2\\src\\exception.jl:83\n",
      "  [4] macro expansion\n",
      "    @ C:\\Users\\jp_gl\\.julia\\packages\\PyCall\\ygXW2\\src\\exception.jl:97 [inlined]\n",
      "  [5] #107\n",
      "    @ C:\\Users\\jp_gl\\.julia\\packages\\PyCall\\ygXW2\\src\\pyfncall.jl:43 [inlined]\n",
      "  [6] disable_sigint\n",
      "    @ .\\c.jl:473 [inlined]\n",
      "  [7] __pycall!\n",
      "    @ C:\\Users\\jp_gl\\.julia\\packages\\PyCall\\ygXW2\\src\\pyfncall.jl:42 [inlined]\n",
      "  [8] _pycall!(ret::PyCall.PyObject, o::PyCall.PyObject, args::Tuple{Vector{Float64}}, nargs::Int64, kw::Ptr{Nothing})\n",
      "    @ PyCall C:\\Users\\jp_gl\\.julia\\packages\\PyCall\\ygXW2\\src\\pyfncall.jl:29\n",
      "  [9] _pycall!(ret::PyCall.PyObject, o::PyCall.PyObject, args::Tuple{Vector{Float64}}, kwargs::Base.Pairs{Symbol, Union{}, Tuple{}, NamedTuple{(), Tuple{}}})\n",
      "    @ PyCall C:\\Users\\jp_gl\\.julia\\packages\\PyCall\\ygXW2\\src\\pyfncall.jl:11\n",
      " [10] (::PyCall.PyObject)(::Vector{Float64}, ::Vararg{Any}; kwargs::Base.Pairs{Symbol, Union{}, Tuple{}, NamedTuple{(), Tuple{}}})\n",
      "    @ PyCall C:\\Users\\jp_gl\\.julia\\packages\\PyCall\\ygXW2\\src\\pyfncall.jl:86\n",
      " [11] (::PyCall.PyObject)(::Vector{Float64}, ::Vararg{Any})\n",
      "    @ PyCall C:\\Users\\jp_gl\\.julia\\packages\\PyCall\\ygXW2\\src\\pyfncall.jl:86\n",
      " [12] predict(py_model::PyCall.PyObject, args::Vector{Float64}; kwargs::Base.Pairs{Symbol, Union{}, Tuple{}, NamedTuple{(), Tuple{}}})\n",
      "    @ ScikitLearn.Skcore C:\\Users\\jp_gl\\.julia\\packages\\ScikitLearn\\Wvn7B\\src\\Skcore.jl:102\n",
      " [13] predict(py_model::PyCall.PyObject, args::Vector{Float64})\n",
      "    @ ScikitLearn.Skcore C:\\Users\\jp_gl\\.julia\\packages\\ScikitLearn\\Wvn7B\\src\\Skcore.jl:102\n",
      " [14] top-level scope\n",
      "    @ c:\\Users\\jp_gl\\OneDrive\\Documents\\GitHub\\Julia-Practice\\ml-in-julia.ipynb:1"
     ]
    }
   ],
   "source": [
    "rf_predictions = predict(rf_model, iris_x)"
   ]
  },
  {
   "cell_type": "code",
   "execution_count": 77,
   "metadata": {},
   "outputs": [
    {
     "ename": "UndefVarError",
     "evalue": "UndefVarError: accuracy not defined",
     "output_type": "error",
     "traceback": [
      "UndefVarError: accuracy not defined\n",
      "\n",
      "Stacktrace:\n",
      " [1] top-level scope\n",
      "   @ c:\\Users\\jp_gl\\OneDrive\\Documents\\GitHub\\Julia-Practice\\ml-in-julia.ipynb:1"
     ]
    }
   ],
   "source": [
    "rf_accuracy = accuracy(rf_predictions, iris_y)"
   ]
  },
  {
   "cell_type": "code",
   "execution_count": 78,
   "metadata": {},
   "outputs": [
    {
     "name": "stderr",
     "output_type": "stream",
     "text": [
      "┌ Warning: Module model_selection has been ported to Julia - try `import ScikitLearn: CrossValidation` instead\n",
      "└ @ ScikitLearn.Skcore C:\\Users\\jp_gl\\.julia\\packages\\ScikitLearn\\Wvn7B\\src\\Skcore.jl:240\n",
      "WARNING: redefinition of constant train_test_split. This may fail, cause incorrect answers, or produce other errors.\n"
     ]
    },
    {
     "data": {
      "text/plain": [
       "PyObject <function train_test_split at 0x00000265D5F79B40>"
      ]
     },
     "metadata": {},
     "output_type": "display_data"
    }
   ],
   "source": [
    "@sk_import model_selection: train_test_split"
   ]
  },
  {
   "cell_type": "code",
   "execution_count": 79,
   "metadata": {},
   "outputs": [
    {
     "data": {
      "text/plain": [
       "4-element Vector{Vector}:\n",
       " [6.5, 6.7, 6.8, 5.1, 6.0, 6.3, 6.6, 7.7, 5.7, 5.0  …  5.0, 6.1, 6.1, 7.2, 5.7, 6.3, 6.4, 6.3, 6.7, 4.9]\n",
       " [5.8, 5.1, 6.6, 5.4, 7.9, 6.3, 6.9, 5.1, 4.7, 6.9  …  6.1, 6.3, 6.1, 7.7, 5.6, 6.4, 5.8, 5.3, 5.5, 5.2]\n",
       " [\"Versicolor\", \"Virginica\", \"Virginica\", \"Setosa\", \"Virginica\", \"Virginica\", \"Versicolor\", \"Virginica\", \"Setosa\", \"Setosa\"  …  \"Setosa\", \"Virginica\", \"Versicolor\", \"Virginica\", \"Versicolor\", \"Virginica\", \"Virginica\", \"Versicolor\", \"Virginica\", \"Setosa\"]\n",
       " [\"Setosa\", \"Versicolor\", \"Versicolor\", \"Setosa\", \"Virginica\", \"Versicolor\", \"Virginica\", \"Setosa\", \"Setosa\", \"Virginica\"  …  \"Versicolor\", \"Virginica\", \"Versicolor\", \"Virginica\", \"Versicolor\", \"Virginica\", \"Virginica\", \"Setosa\", \"Versicolor\", \"Setosa\"]"
      ]
     },
     "metadata": {},
     "output_type": "display_data"
    }
   ],
   "source": [
    "x_train, x_test, y_train, y_test = train_test_split(iris_x,iris_y,random_state=1)"
   ]
  },
  {
   "cell_type": "code",
   "execution_count": 80,
   "metadata": {},
   "outputs": [
    {
     "data": {
      "text/html": [
       "<style>#sk-container-id-36 {color: black;background-color: white;}#sk-container-id-36 pre{padding: 0;}#sk-container-id-36 div.sk-toggleable {background-color: white;}#sk-container-id-36 label.sk-toggleable__label {cursor: pointer;display: block;width: 100%;margin-bottom: 0;padding: 0.3em;box-sizing: border-box;text-align: center;}#sk-container-id-36 label.sk-toggleable__label-arrow:before {content: \"▸\";float: left;margin-right: 0.25em;color: #696969;}#sk-container-id-36 label.sk-toggleable__label-arrow:hover:before {color: black;}#sk-container-id-36 div.sk-estimator:hover label.sk-toggleable__label-arrow:before {color: black;}#sk-container-id-36 div.sk-toggleable__content {max-height: 0;max-width: 0;overflow: hidden;text-align: left;background-color: #f0f8ff;}#sk-container-id-36 div.sk-toggleable__content pre {margin: 0.2em;color: black;border-radius: 0.25em;background-color: #f0f8ff;}#sk-container-id-36 input.sk-toggleable__control:checked~div.sk-toggleable__content {max-height: 200px;max-width: 100%;overflow: auto;}#sk-container-id-36 input.sk-toggleable__control:checked~label.sk-toggleable__label-arrow:before {content: \"▾\";}#sk-container-id-36 div.sk-estimator input.sk-toggleable__control:checked~label.sk-toggleable__label {background-color: #d4ebff;}#sk-container-id-36 div.sk-label input.sk-toggleable__control:checked~label.sk-toggleable__label {background-color: #d4ebff;}#sk-container-id-36 input.sk-hidden--visually {border: 0;clip: rect(1px 1px 1px 1px);clip: rect(1px, 1px, 1px, 1px);height: 1px;margin: -1px;overflow: hidden;padding: 0;position: absolute;width: 1px;}#sk-container-id-36 div.sk-estimator {font-family: monospace;background-color: #f0f8ff;border: 1px dotted black;border-radius: 0.25em;box-sizing: border-box;margin-bottom: 0.5em;}#sk-container-id-36 div.sk-estimator:hover {background-color: #d4ebff;}#sk-container-id-36 div.sk-parallel-item::after {content: \"\";width: 100%;border-bottom: 1px solid gray;flex-grow: 1;}#sk-container-id-36 div.sk-label:hover label.sk-toggleable__label {background-color: #d4ebff;}#sk-container-id-36 div.sk-serial::before {content: \"\";position: absolute;border-left: 1px solid gray;box-sizing: border-box;top: 0;bottom: 0;left: 50%;z-index: 0;}#sk-container-id-36 div.sk-serial {display: flex;flex-direction: column;align-items: center;background-color: white;padding-right: 0.2em;padding-left: 0.2em;position: relative;}#sk-container-id-36 div.sk-item {position: relative;z-index: 1;}#sk-container-id-36 div.sk-parallel {display: flex;align-items: stretch;justify-content: center;background-color: white;position: relative;}#sk-container-id-36 div.sk-item::before, #sk-container-id-36 div.sk-parallel-item::before {content: \"\";position: absolute;border-left: 1px solid gray;box-sizing: border-box;top: 0;bottom: 0;left: 50%;z-index: -1;}#sk-container-id-36 div.sk-parallel-item {display: flex;flex-direction: column;z-index: 1;position: relative;background-color: white;}#sk-container-id-36 div.sk-parallel-item:first-child::after {align-self: flex-end;width: 50%;}#sk-container-id-36 div.sk-parallel-item:last-child::after {align-self: flex-start;width: 50%;}#sk-container-id-36 div.sk-parallel-item:only-child::after {width: 0;}#sk-container-id-36 div.sk-dashed-wrapped {border: 1px dashed gray;margin: 0 0.4em 0.5em 0.4em;box-sizing: border-box;padding-bottom: 0.4em;background-color: white;}#sk-container-id-36 div.sk-label label {font-family: monospace;font-weight: bold;display: inline-block;line-height: 1.2em;}#sk-container-id-36 div.sk-label-container {text-align: center;}#sk-container-id-36 div.sk-container {/* jupyter's `normalize.less` sets `[hidden] { display: none; }` but bootstrap.min.css set `[hidden] { display: none !important; }` so we also need the `!important` here to be able to override the default hidden behavior on the sphinx rendered scikit-learn.org. See: https://github.com/scikit-learn/scikit-learn/issues/21755 */display: inline-block !important;position: relative;}#sk-container-id-36 div.sk-text-repr-fallback {display: none;}</style><div id=\"sk-container-id-36\" class=\"sk-top-container\"><div class=\"sk-text-repr-fallback\"><pre>LogisticRegression()</pre><b>In a Jupyter environment, please rerun this cell to show the HTML representation or trust the notebook. <br />On GitHub, the HTML representation is unable to render, please try loading this page with nbviewer.org.</b></div><div class=\"sk-container\" hidden><div class=\"sk-item\"><div class=\"sk-estimator sk-toggleable\"><input class=\"sk-toggleable__control sk-hidden--visually\" id=\"sk-estimator-id-36\" type=\"checkbox\" checked><label for=\"sk-estimator-id-36\" class=\"sk-toggleable__label sk-toggleable__label-arrow\">LogisticRegression</label><div class=\"sk-toggleable__content\"><pre>LogisticRegression()</pre></div></div></div></div></div>"
      ],
      "text/plain": [
       "PyObject LogisticRegression()"
      ]
     },
     "metadata": {},
     "output_type": "display_data"
    }
   ],
   "source": [
    "log_reg_2 = LogisticRegression()"
   ]
  },
  {
   "cell_type": "code",
   "execution_count": 81,
   "metadata": {},
   "outputs": [
    {
     "ename": "UndefVarError",
     "evalue": "UndefVarError: log_reg2 not defined",
     "output_type": "error",
     "traceback": [
      "UndefVarError: log_reg2 not defined\n",
      "\n",
      "Stacktrace:\n",
      " [1] top-level scope\n",
      "   @ c:\\Users\\jp_gl\\OneDrive\\Documents\\GitHub\\Julia-Practice\\ml-in-julia.ipynb:1"
     ]
    }
   ],
   "source": [
    "fit!(log_reg2, x_train, y_train)"
   ]
  },
  {
   "cell_type": "code",
   "execution_count": 82,
   "metadata": {},
   "outputs": [
    {
     "ename": "PyCall.PyError",
     "evalue": "PyError ($(Expr(:escape, :(ccall(#= C:\\Users\\jp_gl\\.julia\\packages\\PyCall\\ygXW2\\src\\pyfncall.jl:43 =# @pysym(:PyObject_Call), PyPtr, (PyPtr, PyPtr, PyPtr), o, pyargsptr, kw))))) <class 'sklearn.exceptions.NotFittedError'>\nNotFittedError(\"This LogisticRegression instance is not fitted yet. Call 'fit' with appropriate arguments before using this estimator.\")\n  File \"C:\\Users\\jp_gl\\.julia\\conda\\3\\lib\\site-packages\\sklearn\\linear_model\\_base.py\", line 420, in predict\n    scores = self.decision_function(X)\n  File \"C:\\Users\\jp_gl\\.julia\\conda\\3\\lib\\site-packages\\sklearn\\linear_model\\_base.py\", line 398, in decision_function\n    check_is_fitted(self)\n  File \"C:\\Users\\jp_gl\\.julia\\conda\\3\\lib\\site-packages\\sklearn\\utils\\validation.py\", line 1380, in check_is_fitted\n    raise NotFittedError(msg % {\"name\": type(estimator).__name__})\n",
     "output_type": "error",
     "traceback": [
      "PyError ($(Expr(:escape, :(ccall(#= C:\\Users\\jp_gl\\.julia\\packages\\PyCall\\ygXW2\\src\\pyfncall.jl:43 =# @pysym(:PyObject_Call), PyPtr, (PyPtr, PyPtr, PyPtr), o, pyargsptr, kw))))) <class 'sklearn.exceptions.NotFittedError'>\n",
      "NotFittedError(\"This LogisticRegression instance is not fitted yet. Call 'fit' with appropriate arguments before using this estimator.\")\n",
      "  File \"C:\\Users\\jp_gl\\.julia\\conda\\3\\lib\\site-packages\\sklearn\\linear_model\\_base.py\", line 420, in predict\n",
      "    scores = self.decision_function(X)\n",
      "  File \"C:\\Users\\jp_gl\\.julia\\conda\\3\\lib\\site-packages\\sklearn\\linear_model\\_base.py\", line 398, in decision_function\n",
      "    check_is_fitted(self)\n",
      "  File \"C:\\Users\\jp_gl\\.julia\\conda\\3\\lib\\site-packages\\sklearn\\utils\\validation.py\", line 1380, in check_is_fitted\n",
      "    raise NotFittedError(msg % {\"name\": type(estimator).__name__})\n",
      "\n",
      "\n",
      "Stacktrace:\n",
      "  [1] pyerr_check\n",
      "    @ C:\\Users\\jp_gl\\.julia\\packages\\PyCall\\ygXW2\\src\\exception.jl:62 [inlined]\n",
      "  [2] pyerr_check\n",
      "    @ C:\\Users\\jp_gl\\.julia\\packages\\PyCall\\ygXW2\\src\\exception.jl:66 [inlined]\n",
      "  [3] _handle_error(msg::String)\n",
      "    @ PyCall C:\\Users\\jp_gl\\.julia\\packages\\PyCall\\ygXW2\\src\\exception.jl:83\n",
      "  [4] macro expansion\n",
      "    @ C:\\Users\\jp_gl\\.julia\\packages\\PyCall\\ygXW2\\src\\exception.jl:97 [inlined]\n",
      "  [5] #107\n",
      "    @ C:\\Users\\jp_gl\\.julia\\packages\\PyCall\\ygXW2\\src\\pyfncall.jl:43 [inlined]\n",
      "  [6] disable_sigint\n",
      "    @ .\\c.jl:473 [inlined]\n",
      "  [7] __pycall!\n",
      "    @ C:\\Users\\jp_gl\\.julia\\packages\\PyCall\\ygXW2\\src\\pyfncall.jl:42 [inlined]\n",
      "  [8] _pycall!(ret::PyCall.PyObject, o::PyCall.PyObject, args::Tuple{Vector{Float64}}, nargs::Int64, kw::Ptr{Nothing})\n",
      "    @ PyCall C:\\Users\\jp_gl\\.julia\\packages\\PyCall\\ygXW2\\src\\pyfncall.jl:29\n",
      "  [9] _pycall!(ret::PyCall.PyObject, o::PyCall.PyObject, args::Tuple{Vector{Float64}}, kwargs::Base.Pairs{Symbol, Union{}, Tuple{}, NamedTuple{(), Tuple{}}})\n",
      "    @ PyCall C:\\Users\\jp_gl\\.julia\\packages\\PyCall\\ygXW2\\src\\pyfncall.jl:11\n",
      " [10] (::PyCall.PyObject)(::Vector{Float64}, ::Vararg{Any}; kwargs::Base.Pairs{Symbol, Union{}, Tuple{}, NamedTuple{(), Tuple{}}})\n",
      "    @ PyCall C:\\Users\\jp_gl\\.julia\\packages\\PyCall\\ygXW2\\src\\pyfncall.jl:86\n",
      " [11] (::PyCall.PyObject)(::Vector{Float64}, ::Vararg{Any})\n",
      "    @ PyCall C:\\Users\\jp_gl\\.julia\\packages\\PyCall\\ygXW2\\src\\pyfncall.jl:86\n",
      " [12] predict(py_model::PyCall.PyObject, args::Vector{Float64}; kwargs::Base.Pairs{Symbol, Union{}, Tuple{}, NamedTuple{(), Tuple{}}})\n",
      "    @ ScikitLearn.Skcore C:\\Users\\jp_gl\\.julia\\packages\\ScikitLearn\\Wvn7B\\src\\Skcore.jl:102\n",
      " [13] predict(py_model::PyCall.PyObject, args::Vector{Float64})\n",
      "    @ ScikitLearn.Skcore C:\\Users\\jp_gl\\.julia\\packages\\ScikitLearn\\Wvn7B\\src\\Skcore.jl:102\n",
      " [14] top-level scope\n",
      "    @ c:\\Users\\jp_gl\\OneDrive\\Documents\\GitHub\\Julia-Practice\\ml-in-julia.ipynb:1"
     ]
    }
   ],
   "source": [
    "predictions_log_reg = predict(log_reg_2, x_test)"
   ]
  },
  {
   "cell_type": "code",
   "execution_count": 83,
   "metadata": {},
   "outputs": [
    {
     "ename": "UndefVarError",
     "evalue": "UndefVarError: predictions_log_reg not defined",
     "output_type": "error",
     "traceback": [
      "UndefVarError: predictions_log_reg not defined\n",
      "\n",
      "Stacktrace:\n",
      " [1] top-level scope\n",
      "   @ c:\\Users\\jp_gl\\OneDrive\\Documents\\GitHub\\Julia-Practice\\ml-in-julia.ipynb:1"
     ]
    }
   ],
   "source": [
    "accuracy_log_reg = accuracy_score(predictions_log_reg, y_test)"
   ]
  }
 ],
 "metadata": {
  "kernelspec": {
   "display_name": "Julia 1.8.3",
   "language": "julia",
   "name": "julia-1.8"
  },
  "language_info": {
   "file_extension": ".jl",
   "mimetype": "application/julia",
   "name": "julia",
   "version": "1.8.3"
  },
  "orig_nbformat": 4
 },
 "nbformat": 4,
 "nbformat_minor": 2
}
